{
  "nbformat": 4,
  "nbformat_minor": 0,
  "metadata": {
    "colab": {
      "name": "EVA5S6_Mayank.ipynb",
      "provenance": [],
      "collapsed_sections": [],
      "include_colab_link": true
    },
    "kernelspec": {
      "name": "python3",
      "display_name": "Python 3"
    },
    "accelerator": "GPU",
    "widgets": {
      "application/vnd.jupyter.widget-state+json": {
        "b90f2ad7748045578df5916d02b21fe6": {
          "model_module": "@jupyter-widgets/controls",
          "model_name": "HBoxModel",
          "state": {
            "_view_name": "HBoxView",
            "_dom_classes": [],
            "_model_name": "HBoxModel",
            "_view_module": "@jupyter-widgets/controls",
            "_model_module_version": "1.5.0",
            "_view_count": null,
            "_view_module_version": "1.5.0",
            "box_style": "",
            "layout": "IPY_MODEL_7f2e8c04acc24bb9ad69b071d9fe8f31",
            "_model_module": "@jupyter-widgets/controls",
            "children": [
              "IPY_MODEL_08d2d3adde164881b53634096697b2f8",
              "IPY_MODEL_d4a8ecad8f7c464bb736c2bf04dfd3aa"
            ]
          }
        },
        "7f2e8c04acc24bb9ad69b071d9fe8f31": {
          "model_module": "@jupyter-widgets/base",
          "model_name": "LayoutModel",
          "state": {
            "_view_name": "LayoutView",
            "grid_template_rows": null,
            "right": null,
            "justify_content": null,
            "_view_module": "@jupyter-widgets/base",
            "overflow": null,
            "_model_module_version": "1.2.0",
            "_view_count": null,
            "flex_flow": null,
            "width": null,
            "min_width": null,
            "border": null,
            "align_items": null,
            "bottom": null,
            "_model_module": "@jupyter-widgets/base",
            "top": null,
            "grid_column": null,
            "overflow_y": null,
            "overflow_x": null,
            "grid_auto_flow": null,
            "grid_area": null,
            "grid_template_columns": null,
            "flex": null,
            "_model_name": "LayoutModel",
            "justify_items": null,
            "grid_row": null,
            "max_height": null,
            "align_content": null,
            "visibility": null,
            "align_self": null,
            "height": null,
            "min_height": null,
            "padding": null,
            "grid_auto_rows": null,
            "grid_gap": null,
            "max_width": null,
            "order": null,
            "_view_module_version": "1.2.0",
            "grid_template_areas": null,
            "object_position": null,
            "object_fit": null,
            "grid_auto_columns": null,
            "margin": null,
            "display": null,
            "left": null
          }
        },
        "08d2d3adde164881b53634096697b2f8": {
          "model_module": "@jupyter-widgets/controls",
          "model_name": "FloatProgressModel",
          "state": {
            "_view_name": "ProgressView",
            "style": "IPY_MODEL_88fa3e3d2d4d41eb80cf4092c7f76e53",
            "_dom_classes": [],
            "description": "",
            "_model_name": "FloatProgressModel",
            "bar_style": "info",
            "max": 1,
            "_view_module": "@jupyter-widgets/controls",
            "_model_module_version": "1.5.0",
            "value": 1,
            "_view_count": null,
            "_view_module_version": "1.5.0",
            "orientation": "horizontal",
            "min": 0,
            "description_tooltip": null,
            "_model_module": "@jupyter-widgets/controls",
            "layout": "IPY_MODEL_c26c411060f04cfc9627df7dcd800330"
          }
        },
        "d4a8ecad8f7c464bb736c2bf04dfd3aa": {
          "model_module": "@jupyter-widgets/controls",
          "model_name": "HTMLModel",
          "state": {
            "_view_name": "HTMLView",
            "style": "IPY_MODEL_ca98cf4d112949798dd68b477686d20c",
            "_dom_classes": [],
            "description": "",
            "_model_name": "HTMLModel",
            "placeholder": "​",
            "_view_module": "@jupyter-widgets/controls",
            "_model_module_version": "1.5.0",
            "value": " 9920512/? [00:20&lt;00:00, 1548162.75it/s]",
            "_view_count": null,
            "_view_module_version": "1.5.0",
            "description_tooltip": null,
            "_model_module": "@jupyter-widgets/controls",
            "layout": "IPY_MODEL_9058a8d26ea24b508283bef8ef3c28fd"
          }
        },
        "88fa3e3d2d4d41eb80cf4092c7f76e53": {
          "model_module": "@jupyter-widgets/controls",
          "model_name": "ProgressStyleModel",
          "state": {
            "_view_name": "StyleView",
            "_model_name": "ProgressStyleModel",
            "description_width": "initial",
            "_view_module": "@jupyter-widgets/base",
            "_model_module_version": "1.5.0",
            "_view_count": null,
            "_view_module_version": "1.2.0",
            "bar_color": null,
            "_model_module": "@jupyter-widgets/controls"
          }
        },
        "c26c411060f04cfc9627df7dcd800330": {
          "model_module": "@jupyter-widgets/base",
          "model_name": "LayoutModel",
          "state": {
            "_view_name": "LayoutView",
            "grid_template_rows": null,
            "right": null,
            "justify_content": null,
            "_view_module": "@jupyter-widgets/base",
            "overflow": null,
            "_model_module_version": "1.2.0",
            "_view_count": null,
            "flex_flow": null,
            "width": null,
            "min_width": null,
            "border": null,
            "align_items": null,
            "bottom": null,
            "_model_module": "@jupyter-widgets/base",
            "top": null,
            "grid_column": null,
            "overflow_y": null,
            "overflow_x": null,
            "grid_auto_flow": null,
            "grid_area": null,
            "grid_template_columns": null,
            "flex": null,
            "_model_name": "LayoutModel",
            "justify_items": null,
            "grid_row": null,
            "max_height": null,
            "align_content": null,
            "visibility": null,
            "align_self": null,
            "height": null,
            "min_height": null,
            "padding": null,
            "grid_auto_rows": null,
            "grid_gap": null,
            "max_width": null,
            "order": null,
            "_view_module_version": "1.2.0",
            "grid_template_areas": null,
            "object_position": null,
            "object_fit": null,
            "grid_auto_columns": null,
            "margin": null,
            "display": null,
            "left": null
          }
        },
        "ca98cf4d112949798dd68b477686d20c": {
          "model_module": "@jupyter-widgets/controls",
          "model_name": "DescriptionStyleModel",
          "state": {
            "_view_name": "StyleView",
            "_model_name": "DescriptionStyleModel",
            "description_width": "",
            "_view_module": "@jupyter-widgets/base",
            "_model_module_version": "1.5.0",
            "_view_count": null,
            "_view_module_version": "1.2.0",
            "_model_module": "@jupyter-widgets/controls"
          }
        },
        "9058a8d26ea24b508283bef8ef3c28fd": {
          "model_module": "@jupyter-widgets/base",
          "model_name": "LayoutModel",
          "state": {
            "_view_name": "LayoutView",
            "grid_template_rows": null,
            "right": null,
            "justify_content": null,
            "_view_module": "@jupyter-widgets/base",
            "overflow": null,
            "_model_module_version": "1.2.0",
            "_view_count": null,
            "flex_flow": null,
            "width": null,
            "min_width": null,
            "border": null,
            "align_items": null,
            "bottom": null,
            "_model_module": "@jupyter-widgets/base",
            "top": null,
            "grid_column": null,
            "overflow_y": null,
            "overflow_x": null,
            "grid_auto_flow": null,
            "grid_area": null,
            "grid_template_columns": null,
            "flex": null,
            "_model_name": "LayoutModel",
            "justify_items": null,
            "grid_row": null,
            "max_height": null,
            "align_content": null,
            "visibility": null,
            "align_self": null,
            "height": null,
            "min_height": null,
            "padding": null,
            "grid_auto_rows": null,
            "grid_gap": null,
            "max_width": null,
            "order": null,
            "_view_module_version": "1.2.0",
            "grid_template_areas": null,
            "object_position": null,
            "object_fit": null,
            "grid_auto_columns": null,
            "margin": null,
            "display": null,
            "left": null
          }
        },
        "50436a6edf8b4d77b6c601a7a785d342": {
          "model_module": "@jupyter-widgets/controls",
          "model_name": "HBoxModel",
          "state": {
            "_view_name": "HBoxView",
            "_dom_classes": [],
            "_model_name": "HBoxModel",
            "_view_module": "@jupyter-widgets/controls",
            "_model_module_version": "1.5.0",
            "_view_count": null,
            "_view_module_version": "1.5.0",
            "box_style": "",
            "layout": "IPY_MODEL_085af62b7bbd400392b89dc46df28948",
            "_model_module": "@jupyter-widgets/controls",
            "children": [
              "IPY_MODEL_844a3685ee48444cade3d5461ff8fb6e",
              "IPY_MODEL_1f277a13e19243ddb749879179ececac"
            ]
          }
        },
        "085af62b7bbd400392b89dc46df28948": {
          "model_module": "@jupyter-widgets/base",
          "model_name": "LayoutModel",
          "state": {
            "_view_name": "LayoutView",
            "grid_template_rows": null,
            "right": null,
            "justify_content": null,
            "_view_module": "@jupyter-widgets/base",
            "overflow": null,
            "_model_module_version": "1.2.0",
            "_view_count": null,
            "flex_flow": null,
            "width": null,
            "min_width": null,
            "border": null,
            "align_items": null,
            "bottom": null,
            "_model_module": "@jupyter-widgets/base",
            "top": null,
            "grid_column": null,
            "overflow_y": null,
            "overflow_x": null,
            "grid_auto_flow": null,
            "grid_area": null,
            "grid_template_columns": null,
            "flex": null,
            "_model_name": "LayoutModel",
            "justify_items": null,
            "grid_row": null,
            "max_height": null,
            "align_content": null,
            "visibility": null,
            "align_self": null,
            "height": null,
            "min_height": null,
            "padding": null,
            "grid_auto_rows": null,
            "grid_gap": null,
            "max_width": null,
            "order": null,
            "_view_module_version": "1.2.0",
            "grid_template_areas": null,
            "object_position": null,
            "object_fit": null,
            "grid_auto_columns": null,
            "margin": null,
            "display": null,
            "left": null
          }
        },
        "844a3685ee48444cade3d5461ff8fb6e": {
          "model_module": "@jupyter-widgets/controls",
          "model_name": "FloatProgressModel",
          "state": {
            "_view_name": "ProgressView",
            "style": "IPY_MODEL_2f5337f29966445db4317572cc1ae629",
            "_dom_classes": [],
            "description": "  0%",
            "_model_name": "FloatProgressModel",
            "bar_style": "info",
            "max": 1,
            "_view_module": "@jupyter-widgets/controls",
            "_model_module_version": "1.5.0",
            "value": 0,
            "_view_count": null,
            "_view_module_version": "1.5.0",
            "orientation": "horizontal",
            "min": 0,
            "description_tooltip": null,
            "_model_module": "@jupyter-widgets/controls",
            "layout": "IPY_MODEL_8217d18c487842fea6d03045bdeb2e8a"
          }
        },
        "1f277a13e19243ddb749879179ececac": {
          "model_module": "@jupyter-widgets/controls",
          "model_name": "HTMLModel",
          "state": {
            "_view_name": "HTMLView",
            "style": "IPY_MODEL_59736433d40247f0bddbe528a8fc753f",
            "_dom_classes": [],
            "description": "",
            "_model_name": "HTMLModel",
            "placeholder": "​",
            "_view_module": "@jupyter-widgets/controls",
            "_model_module_version": "1.5.0",
            "value": " 0/28881 [00:00&lt;?, ?it/s]",
            "_view_count": null,
            "_view_module_version": "1.5.0",
            "description_tooltip": null,
            "_model_module": "@jupyter-widgets/controls",
            "layout": "IPY_MODEL_61f98e0f4fab421fa323dc768dfeebf4"
          }
        },
        "2f5337f29966445db4317572cc1ae629": {
          "model_module": "@jupyter-widgets/controls",
          "model_name": "ProgressStyleModel",
          "state": {
            "_view_name": "StyleView",
            "_model_name": "ProgressStyleModel",
            "description_width": "initial",
            "_view_module": "@jupyter-widgets/base",
            "_model_module_version": "1.5.0",
            "_view_count": null,
            "_view_module_version": "1.2.0",
            "bar_color": null,
            "_model_module": "@jupyter-widgets/controls"
          }
        },
        "8217d18c487842fea6d03045bdeb2e8a": {
          "model_module": "@jupyter-widgets/base",
          "model_name": "LayoutModel",
          "state": {
            "_view_name": "LayoutView",
            "grid_template_rows": null,
            "right": null,
            "justify_content": null,
            "_view_module": "@jupyter-widgets/base",
            "overflow": null,
            "_model_module_version": "1.2.0",
            "_view_count": null,
            "flex_flow": null,
            "width": null,
            "min_width": null,
            "border": null,
            "align_items": null,
            "bottom": null,
            "_model_module": "@jupyter-widgets/base",
            "top": null,
            "grid_column": null,
            "overflow_y": null,
            "overflow_x": null,
            "grid_auto_flow": null,
            "grid_area": null,
            "grid_template_columns": null,
            "flex": null,
            "_model_name": "LayoutModel",
            "justify_items": null,
            "grid_row": null,
            "max_height": null,
            "align_content": null,
            "visibility": null,
            "align_self": null,
            "height": null,
            "min_height": null,
            "padding": null,
            "grid_auto_rows": null,
            "grid_gap": null,
            "max_width": null,
            "order": null,
            "_view_module_version": "1.2.0",
            "grid_template_areas": null,
            "object_position": null,
            "object_fit": null,
            "grid_auto_columns": null,
            "margin": null,
            "display": null,
            "left": null
          }
        },
        "59736433d40247f0bddbe528a8fc753f": {
          "model_module": "@jupyter-widgets/controls",
          "model_name": "DescriptionStyleModel",
          "state": {
            "_view_name": "StyleView",
            "_model_name": "DescriptionStyleModel",
            "description_width": "",
            "_view_module": "@jupyter-widgets/base",
            "_model_module_version": "1.5.0",
            "_view_count": null,
            "_view_module_version": "1.2.0",
            "_model_module": "@jupyter-widgets/controls"
          }
        },
        "61f98e0f4fab421fa323dc768dfeebf4": {
          "model_module": "@jupyter-widgets/base",
          "model_name": "LayoutModel",
          "state": {
            "_view_name": "LayoutView",
            "grid_template_rows": null,
            "right": null,
            "justify_content": null,
            "_view_module": "@jupyter-widgets/base",
            "overflow": null,
            "_model_module_version": "1.2.0",
            "_view_count": null,
            "flex_flow": null,
            "width": null,
            "min_width": null,
            "border": null,
            "align_items": null,
            "bottom": null,
            "_model_module": "@jupyter-widgets/base",
            "top": null,
            "grid_column": null,
            "overflow_y": null,
            "overflow_x": null,
            "grid_auto_flow": null,
            "grid_area": null,
            "grid_template_columns": null,
            "flex": null,
            "_model_name": "LayoutModel",
            "justify_items": null,
            "grid_row": null,
            "max_height": null,
            "align_content": null,
            "visibility": null,
            "align_self": null,
            "height": null,
            "min_height": null,
            "padding": null,
            "grid_auto_rows": null,
            "grid_gap": null,
            "max_width": null,
            "order": null,
            "_view_module_version": "1.2.0",
            "grid_template_areas": null,
            "object_position": null,
            "object_fit": null,
            "grid_auto_columns": null,
            "margin": null,
            "display": null,
            "left": null
          }
        },
        "0e44ee8f75944fab9a229bc96bc64669": {
          "model_module": "@jupyter-widgets/controls",
          "model_name": "HBoxModel",
          "state": {
            "_view_name": "HBoxView",
            "_dom_classes": [],
            "_model_name": "HBoxModel",
            "_view_module": "@jupyter-widgets/controls",
            "_model_module_version": "1.5.0",
            "_view_count": null,
            "_view_module_version": "1.5.0",
            "box_style": "",
            "layout": "IPY_MODEL_e4004009b9fd4da6b0570979325c3bbd",
            "_model_module": "@jupyter-widgets/controls",
            "children": [
              "IPY_MODEL_c513fca1e2894d839a51c87f7131c596",
              "IPY_MODEL_b11bde4dea5d418ca46cab786f3661da"
            ]
          }
        },
        "e4004009b9fd4da6b0570979325c3bbd": {
          "model_module": "@jupyter-widgets/base",
          "model_name": "LayoutModel",
          "state": {
            "_view_name": "LayoutView",
            "grid_template_rows": null,
            "right": null,
            "justify_content": null,
            "_view_module": "@jupyter-widgets/base",
            "overflow": null,
            "_model_module_version": "1.2.0",
            "_view_count": null,
            "flex_flow": null,
            "width": null,
            "min_width": null,
            "border": null,
            "align_items": null,
            "bottom": null,
            "_model_module": "@jupyter-widgets/base",
            "top": null,
            "grid_column": null,
            "overflow_y": null,
            "overflow_x": null,
            "grid_auto_flow": null,
            "grid_area": null,
            "grid_template_columns": null,
            "flex": null,
            "_model_name": "LayoutModel",
            "justify_items": null,
            "grid_row": null,
            "max_height": null,
            "align_content": null,
            "visibility": null,
            "align_self": null,
            "height": null,
            "min_height": null,
            "padding": null,
            "grid_auto_rows": null,
            "grid_gap": null,
            "max_width": null,
            "order": null,
            "_view_module_version": "1.2.0",
            "grid_template_areas": null,
            "object_position": null,
            "object_fit": null,
            "grid_auto_columns": null,
            "margin": null,
            "display": null,
            "left": null
          }
        },
        "c513fca1e2894d839a51c87f7131c596": {
          "model_module": "@jupyter-widgets/controls",
          "model_name": "FloatProgressModel",
          "state": {
            "_view_name": "ProgressView",
            "style": "IPY_MODEL_d3438db55e9a4fb0b3ab73459c2fd3e7",
            "_dom_classes": [],
            "description": "",
            "_model_name": "FloatProgressModel",
            "bar_style": "info",
            "max": 1,
            "_view_module": "@jupyter-widgets/controls",
            "_model_module_version": "1.5.0",
            "value": 1,
            "_view_count": null,
            "_view_module_version": "1.5.0",
            "orientation": "horizontal",
            "min": 0,
            "description_tooltip": null,
            "_model_module": "@jupyter-widgets/controls",
            "layout": "IPY_MODEL_ad7051abb6934cfcb89069aa90e3b103"
          }
        },
        "b11bde4dea5d418ca46cab786f3661da": {
          "model_module": "@jupyter-widgets/controls",
          "model_name": "HTMLModel",
          "state": {
            "_view_name": "HTMLView",
            "style": "IPY_MODEL_7cda15ee184b43c6bf6724a036cb1833",
            "_dom_classes": [],
            "description": "",
            "_model_name": "HTMLModel",
            "placeholder": "​",
            "_view_module": "@jupyter-widgets/controls",
            "_model_module_version": "1.5.0",
            "value": " 1654784/? [00:18&lt;00:00, 548463.70it/s]",
            "_view_count": null,
            "_view_module_version": "1.5.0",
            "description_tooltip": null,
            "_model_module": "@jupyter-widgets/controls",
            "layout": "IPY_MODEL_88bb64ea90814a5295ccc8c5690f3723"
          }
        },
        "d3438db55e9a4fb0b3ab73459c2fd3e7": {
          "model_module": "@jupyter-widgets/controls",
          "model_name": "ProgressStyleModel",
          "state": {
            "_view_name": "StyleView",
            "_model_name": "ProgressStyleModel",
            "description_width": "initial",
            "_view_module": "@jupyter-widgets/base",
            "_model_module_version": "1.5.0",
            "_view_count": null,
            "_view_module_version": "1.2.0",
            "bar_color": null,
            "_model_module": "@jupyter-widgets/controls"
          }
        },
        "ad7051abb6934cfcb89069aa90e3b103": {
          "model_module": "@jupyter-widgets/base",
          "model_name": "LayoutModel",
          "state": {
            "_view_name": "LayoutView",
            "grid_template_rows": null,
            "right": null,
            "justify_content": null,
            "_view_module": "@jupyter-widgets/base",
            "overflow": null,
            "_model_module_version": "1.2.0",
            "_view_count": null,
            "flex_flow": null,
            "width": null,
            "min_width": null,
            "border": null,
            "align_items": null,
            "bottom": null,
            "_model_module": "@jupyter-widgets/base",
            "top": null,
            "grid_column": null,
            "overflow_y": null,
            "overflow_x": null,
            "grid_auto_flow": null,
            "grid_area": null,
            "grid_template_columns": null,
            "flex": null,
            "_model_name": "LayoutModel",
            "justify_items": null,
            "grid_row": null,
            "max_height": null,
            "align_content": null,
            "visibility": null,
            "align_self": null,
            "height": null,
            "min_height": null,
            "padding": null,
            "grid_auto_rows": null,
            "grid_gap": null,
            "max_width": null,
            "order": null,
            "_view_module_version": "1.2.0",
            "grid_template_areas": null,
            "object_position": null,
            "object_fit": null,
            "grid_auto_columns": null,
            "margin": null,
            "display": null,
            "left": null
          }
        },
        "7cda15ee184b43c6bf6724a036cb1833": {
          "model_module": "@jupyter-widgets/controls",
          "model_name": "DescriptionStyleModel",
          "state": {
            "_view_name": "StyleView",
            "_model_name": "DescriptionStyleModel",
            "description_width": "",
            "_view_module": "@jupyter-widgets/base",
            "_model_module_version": "1.5.0",
            "_view_count": null,
            "_view_module_version": "1.2.0",
            "_model_module": "@jupyter-widgets/controls"
          }
        },
        "88bb64ea90814a5295ccc8c5690f3723": {
          "model_module": "@jupyter-widgets/base",
          "model_name": "LayoutModel",
          "state": {
            "_view_name": "LayoutView",
            "grid_template_rows": null,
            "right": null,
            "justify_content": null,
            "_view_module": "@jupyter-widgets/base",
            "overflow": null,
            "_model_module_version": "1.2.0",
            "_view_count": null,
            "flex_flow": null,
            "width": null,
            "min_width": null,
            "border": null,
            "align_items": null,
            "bottom": null,
            "_model_module": "@jupyter-widgets/base",
            "top": null,
            "grid_column": null,
            "overflow_y": null,
            "overflow_x": null,
            "grid_auto_flow": null,
            "grid_area": null,
            "grid_template_columns": null,
            "flex": null,
            "_model_name": "LayoutModel",
            "justify_items": null,
            "grid_row": null,
            "max_height": null,
            "align_content": null,
            "visibility": null,
            "align_self": null,
            "height": null,
            "min_height": null,
            "padding": null,
            "grid_auto_rows": null,
            "grid_gap": null,
            "max_width": null,
            "order": null,
            "_view_module_version": "1.2.0",
            "grid_template_areas": null,
            "object_position": null,
            "object_fit": null,
            "grid_auto_columns": null,
            "margin": null,
            "display": null,
            "left": null
          }
        },
        "581b7e8ed32447bb943d2264981d4d0f": {
          "model_module": "@jupyter-widgets/controls",
          "model_name": "HBoxModel",
          "state": {
            "_view_name": "HBoxView",
            "_dom_classes": [],
            "_model_name": "HBoxModel",
            "_view_module": "@jupyter-widgets/controls",
            "_model_module_version": "1.5.0",
            "_view_count": null,
            "_view_module_version": "1.5.0",
            "box_style": "",
            "layout": "IPY_MODEL_d4adde4e250e433fa1518c5d9a7716be",
            "_model_module": "@jupyter-widgets/controls",
            "children": [
              "IPY_MODEL_7df71bd9f71643229bfc9fa83f9d2b7f",
              "IPY_MODEL_ca56f65f290b4753acb71e28e91eff66"
            ]
          }
        },
        "d4adde4e250e433fa1518c5d9a7716be": {
          "model_module": "@jupyter-widgets/base",
          "model_name": "LayoutModel",
          "state": {
            "_view_name": "LayoutView",
            "grid_template_rows": null,
            "right": null,
            "justify_content": null,
            "_view_module": "@jupyter-widgets/base",
            "overflow": null,
            "_model_module_version": "1.2.0",
            "_view_count": null,
            "flex_flow": null,
            "width": null,
            "min_width": null,
            "border": null,
            "align_items": null,
            "bottom": null,
            "_model_module": "@jupyter-widgets/base",
            "top": null,
            "grid_column": null,
            "overflow_y": null,
            "overflow_x": null,
            "grid_auto_flow": null,
            "grid_area": null,
            "grid_template_columns": null,
            "flex": null,
            "_model_name": "LayoutModel",
            "justify_items": null,
            "grid_row": null,
            "max_height": null,
            "align_content": null,
            "visibility": null,
            "align_self": null,
            "height": null,
            "min_height": null,
            "padding": null,
            "grid_auto_rows": null,
            "grid_gap": null,
            "max_width": null,
            "order": null,
            "_view_module_version": "1.2.0",
            "grid_template_areas": null,
            "object_position": null,
            "object_fit": null,
            "grid_auto_columns": null,
            "margin": null,
            "display": null,
            "left": null
          }
        },
        "7df71bd9f71643229bfc9fa83f9d2b7f": {
          "model_module": "@jupyter-widgets/controls",
          "model_name": "FloatProgressModel",
          "state": {
            "_view_name": "ProgressView",
            "style": "IPY_MODEL_7d829678df904bc49d514b9f48d6a068",
            "_dom_classes": [],
            "description": "  0%",
            "_model_name": "FloatProgressModel",
            "bar_style": "info",
            "max": 1,
            "_view_module": "@jupyter-widgets/controls",
            "_model_module_version": "1.5.0",
            "value": 0,
            "_view_count": null,
            "_view_module_version": "1.5.0",
            "orientation": "horizontal",
            "min": 0,
            "description_tooltip": null,
            "_model_module": "@jupyter-widgets/controls",
            "layout": "IPY_MODEL_179578979c2a4d9194f8da4975af0a22"
          }
        },
        "ca56f65f290b4753acb71e28e91eff66": {
          "model_module": "@jupyter-widgets/controls",
          "model_name": "HTMLModel",
          "state": {
            "_view_name": "HTMLView",
            "style": "IPY_MODEL_5987799b744246e799adc8cc56cea864",
            "_dom_classes": [],
            "description": "",
            "_model_name": "HTMLModel",
            "placeholder": "​",
            "_view_module": "@jupyter-widgets/controls",
            "_model_module_version": "1.5.0",
            "value": " 0/4542 [00:00&lt;?, ?it/s]",
            "_view_count": null,
            "_view_module_version": "1.5.0",
            "description_tooltip": null,
            "_model_module": "@jupyter-widgets/controls",
            "layout": "IPY_MODEL_bb43b8768d994053a75a16a478a40f3d"
          }
        },
        "7d829678df904bc49d514b9f48d6a068": {
          "model_module": "@jupyter-widgets/controls",
          "model_name": "ProgressStyleModel",
          "state": {
            "_view_name": "StyleView",
            "_model_name": "ProgressStyleModel",
            "description_width": "initial",
            "_view_module": "@jupyter-widgets/base",
            "_model_module_version": "1.5.0",
            "_view_count": null,
            "_view_module_version": "1.2.0",
            "bar_color": null,
            "_model_module": "@jupyter-widgets/controls"
          }
        },
        "179578979c2a4d9194f8da4975af0a22": {
          "model_module": "@jupyter-widgets/base",
          "model_name": "LayoutModel",
          "state": {
            "_view_name": "LayoutView",
            "grid_template_rows": null,
            "right": null,
            "justify_content": null,
            "_view_module": "@jupyter-widgets/base",
            "overflow": null,
            "_model_module_version": "1.2.0",
            "_view_count": null,
            "flex_flow": null,
            "width": null,
            "min_width": null,
            "border": null,
            "align_items": null,
            "bottom": null,
            "_model_module": "@jupyter-widgets/base",
            "top": null,
            "grid_column": null,
            "overflow_y": null,
            "overflow_x": null,
            "grid_auto_flow": null,
            "grid_area": null,
            "grid_template_columns": null,
            "flex": null,
            "_model_name": "LayoutModel",
            "justify_items": null,
            "grid_row": null,
            "max_height": null,
            "align_content": null,
            "visibility": null,
            "align_self": null,
            "height": null,
            "min_height": null,
            "padding": null,
            "grid_auto_rows": null,
            "grid_gap": null,
            "max_width": null,
            "order": null,
            "_view_module_version": "1.2.0",
            "grid_template_areas": null,
            "object_position": null,
            "object_fit": null,
            "grid_auto_columns": null,
            "margin": null,
            "display": null,
            "left": null
          }
        },
        "5987799b744246e799adc8cc56cea864": {
          "model_module": "@jupyter-widgets/controls",
          "model_name": "DescriptionStyleModel",
          "state": {
            "_view_name": "StyleView",
            "_model_name": "DescriptionStyleModel",
            "description_width": "",
            "_view_module": "@jupyter-widgets/base",
            "_model_module_version": "1.5.0",
            "_view_count": null,
            "_view_module_version": "1.2.0",
            "_model_module": "@jupyter-widgets/controls"
          }
        },
        "bb43b8768d994053a75a16a478a40f3d": {
          "model_module": "@jupyter-widgets/base",
          "model_name": "LayoutModel",
          "state": {
            "_view_name": "LayoutView",
            "grid_template_rows": null,
            "right": null,
            "justify_content": null,
            "_view_module": "@jupyter-widgets/base",
            "overflow": null,
            "_model_module_version": "1.2.0",
            "_view_count": null,
            "flex_flow": null,
            "width": null,
            "min_width": null,
            "border": null,
            "align_items": null,
            "bottom": null,
            "_model_module": "@jupyter-widgets/base",
            "top": null,
            "grid_column": null,
            "overflow_y": null,
            "overflow_x": null,
            "grid_auto_flow": null,
            "grid_area": null,
            "grid_template_columns": null,
            "flex": null,
            "_model_name": "LayoutModel",
            "justify_items": null,
            "grid_row": null,
            "max_height": null,
            "align_content": null,
            "visibility": null,
            "align_self": null,
            "height": null,
            "min_height": null,
            "padding": null,
            "grid_auto_rows": null,
            "grid_gap": null,
            "max_width": null,
            "order": null,
            "_view_module_version": "1.2.0",
            "grid_template_areas": null,
            "object_position": null,
            "object_fit": null,
            "grid_auto_columns": null,
            "margin": null,
            "display": null,
            "left": null
          }
        }
      }
    }
  },
  "cells": [
    {
      "cell_type": "markdown",
      "metadata": {
        "id": "view-in-github",
        "colab_type": "text"
      },
      "source": [
        "<a href=\"https://colab.research.google.com/github/mishiruv/EVA5/blob/master/EVA5S6_Mayank.ipynb\" target=\"_parent\"><img src=\"https://colab.research.google.com/assets/colab-badge.svg\" alt=\"Open In Colab\"/></a>"
      ]
    },
    {
      "cell_type": "markdown",
      "metadata": {
        "id": "aO-7t1Y7-hV4",
        "colab_type": "text"
      },
      "source": [
        "# Import Libraries"
      ]
    },
    {
      "cell_type": "code",
      "metadata": {
        "id": "8kH16rnZ7wt_",
        "colab_type": "code",
        "colab": {}
      },
      "source": [
        "from __future__ import print_function\n",
        "import torch\n",
        "import torch.nn as nn\n",
        "import torch.nn.functional as F\n",
        "import torch.optim as optim\n",
        "from torchvision import datasets, transforms"
      ],
      "execution_count": null,
      "outputs": []
    },
    {
      "cell_type": "markdown",
      "metadata": {
        "id": "ky3f_Odl-7um",
        "colab_type": "text"
      },
      "source": [
        "## Data Transformations\n",
        "\n",
        "We first start with defining our data transformations. We need to think what our data is and how can we augment it to correct represent images which it might not see otherwise. \n",
        "\n",
        "Here is the list of all the transformations which come pre-built with PyTorch\n",
        "\n",
        "1.   Compose\n",
        "2.   ToTensor\n",
        "3.   ToPILImage\n",
        "4. Normalize\n",
        "5. Resize\n",
        "6. Scale\n",
        "7. CenterCrop\n",
        "8. Pad\n",
        "9. Lambda\n",
        "10. RandomApply\n",
        "11. RandomChoice\n",
        "12. RandomOrder\n",
        "13. RandomCrop\n",
        "14. RandomHorizontalFlip\n",
        "15. RandomVerticalFlip\n",
        "16. RandomResizedCrop\n",
        "17. RandomSizedCrop\n",
        "18. FiveCrop\n",
        "19. TenCrop\n",
        "20. LinearTransformation\n",
        "21. ColorJitter\n",
        "22. RandomRotation\n",
        "23. RandomAffine\n",
        "24. Grayscale\n",
        "25. RandomGrayscale\n",
        "26. RandomPerspective\n",
        "27. RandomErasing\n",
        "\n",
        "You can read more about them [here](https://pytorch.org/docs/stable/_modules/torchvision/transforms/transforms.html)"
      ]
    },
    {
      "cell_type": "code",
      "metadata": {
        "id": "eQVjfGvMz0g6",
        "colab_type": "code",
        "colab": {}
      },
      "source": [
        "%matplotlib inline\n",
        "import matplotlib.pyplot as plt"
      ],
      "execution_count": null,
      "outputs": []
    },
    {
      "cell_type": "code",
      "metadata": {
        "id": "YtssFUKb-jqx",
        "colab_type": "code",
        "colab": {}
      },
      "source": [
        "#Train Phase transformations\n",
        "train_transforms = transforms.Compose([\n",
        "                                      #  transforms.Resize((28, 28)),\n",
        "                                      #  transforms.ColorJitter(brightness=0.10, contrast=0.1, saturation=0.10, hue=0.1),\n",
        "                                       transforms.RandomRotation((-10.0, 10.0), fill=(1,)),\n",
        "                                       transforms.ToTensor(),\n",
        "                                       transforms.Normalize((0.1307,), (0.3081,)) # The mean and std have to be sequences (e.g., tuples), therefore you should add a comma after the values. \n",
        "                                       # Note the difference between (0.1307) and (0.1307,)\n",
        "                                       ])\n",
        "\n",
        "# Test Phase transformations\n",
        "test_transforms = transforms.Compose([\n",
        "                                      #  transforms.Resize((28, 28)),\n",
        "                                      #  transforms.ColorJitter(brightness=0.10, contrast=0.1, saturation=0.10, hue=0.1),\n",
        "                                       transforms.ToTensor(),\n",
        "                                       transforms.Normalize((0.1307,), (0.3081,))\n",
        "                                       ])"
      ],
      "execution_count": null,
      "outputs": []
    },
    {
      "cell_type": "markdown",
      "metadata": {
        "id": "oQciFYo2B1mO",
        "colab_type": "text"
      },
      "source": [
        "# Dataset and Creating Train/Test Split"
      ]
    },
    {
      "cell_type": "code",
      "metadata": {
        "id": "_4A84rlfDA23",
        "colab_type": "code",
        "colab": {
          "base_uri": "https://localhost:8080/",
          "height": 369,
          "referenced_widgets": [
            "b90f2ad7748045578df5916d02b21fe6",
            "7f2e8c04acc24bb9ad69b071d9fe8f31",
            "08d2d3adde164881b53634096697b2f8",
            "d4a8ecad8f7c464bb736c2bf04dfd3aa",
            "88fa3e3d2d4d41eb80cf4092c7f76e53",
            "c26c411060f04cfc9627df7dcd800330",
            "ca98cf4d112949798dd68b477686d20c",
            "9058a8d26ea24b508283bef8ef3c28fd",
            "50436a6edf8b4d77b6c601a7a785d342",
            "085af62b7bbd400392b89dc46df28948",
            "844a3685ee48444cade3d5461ff8fb6e",
            "1f277a13e19243ddb749879179ececac",
            "2f5337f29966445db4317572cc1ae629",
            "8217d18c487842fea6d03045bdeb2e8a",
            "59736433d40247f0bddbe528a8fc753f",
            "61f98e0f4fab421fa323dc768dfeebf4",
            "0e44ee8f75944fab9a229bc96bc64669",
            "e4004009b9fd4da6b0570979325c3bbd",
            "c513fca1e2894d839a51c87f7131c596",
            "b11bde4dea5d418ca46cab786f3661da",
            "d3438db55e9a4fb0b3ab73459c2fd3e7",
            "ad7051abb6934cfcb89069aa90e3b103",
            "7cda15ee184b43c6bf6724a036cb1833",
            "88bb64ea90814a5295ccc8c5690f3723",
            "581b7e8ed32447bb943d2264981d4d0f",
            "d4adde4e250e433fa1518c5d9a7716be",
            "7df71bd9f71643229bfc9fa83f9d2b7f",
            "ca56f65f290b4753acb71e28e91eff66",
            "7d829678df904bc49d514b9f48d6a068",
            "179578979c2a4d9194f8da4975af0a22",
            "5987799b744246e799adc8cc56cea864",
            "bb43b8768d994053a75a16a478a40f3d"
          ]
        },
        "outputId": "95464a6d-88d1-474a-9b35-aefad80803fb"
      },
      "source": [
        "train = datasets.MNIST('./data', train=True, download=True, transform=train_transforms)\n",
        "test = datasets.MNIST('./data', train=False, download=True, transform=test_transforms)"
      ],
      "execution_count": null,
      "outputs": [
        {
          "output_type": "stream",
          "text": [
            "Downloading http://yann.lecun.com/exdb/mnist/train-images-idx3-ubyte.gz to ./data/MNIST/raw/train-images-idx3-ubyte.gz\n"
          ],
          "name": "stdout"
        },
        {
          "output_type": "display_data",
          "data": {
            "application/vnd.jupyter.widget-view+json": {
              "model_id": "b90f2ad7748045578df5916d02b21fe6",
              "version_minor": 0,
              "version_major": 2
            },
            "text/plain": [
              "HBox(children=(FloatProgress(value=1.0, bar_style='info', max=1.0), HTML(value='')))"
            ]
          },
          "metadata": {
            "tags": []
          }
        },
        {
          "output_type": "stream",
          "text": [
            "Extracting ./data/MNIST/raw/train-images-idx3-ubyte.gz to ./data/MNIST/raw\n",
            "Downloading http://yann.lecun.com/exdb/mnist/train-labels-idx1-ubyte.gz to ./data/MNIST/raw/train-labels-idx1-ubyte.gz\n"
          ],
          "name": "stdout"
        },
        {
          "output_type": "display_data",
          "data": {
            "application/vnd.jupyter.widget-view+json": {
              "model_id": "50436a6edf8b4d77b6c601a7a785d342",
              "version_minor": 0,
              "version_major": 2
            },
            "text/plain": [
              "HBox(children=(FloatProgress(value=1.0, bar_style='info', max=1.0), HTML(value='')))"
            ]
          },
          "metadata": {
            "tags": []
          }
        },
        {
          "output_type": "stream",
          "text": [
            "Extracting ./data/MNIST/raw/train-labels-idx1-ubyte.gz to ./data/MNIST/raw\n",
            "Downloading http://yann.lecun.com/exdb/mnist/t10k-images-idx3-ubyte.gz to ./data/MNIST/raw/t10k-images-idx3-ubyte.gz\n"
          ],
          "name": "stdout"
        },
        {
          "output_type": "display_data",
          "data": {
            "application/vnd.jupyter.widget-view+json": {
              "model_id": "0e44ee8f75944fab9a229bc96bc64669",
              "version_minor": 0,
              "version_major": 2
            },
            "text/plain": [
              "HBox(children=(FloatProgress(value=1.0, bar_style='info', max=1.0), HTML(value='')))"
            ]
          },
          "metadata": {
            "tags": []
          }
        },
        {
          "output_type": "stream",
          "text": [
            "Extracting ./data/MNIST/raw/t10k-images-idx3-ubyte.gz to ./data/MNIST/raw\n",
            "Downloading http://yann.lecun.com/exdb/mnist/t10k-labels-idx1-ubyte.gz to ./data/MNIST/raw/t10k-labels-idx1-ubyte.gz\n"
          ],
          "name": "stdout"
        },
        {
          "output_type": "display_data",
          "data": {
            "application/vnd.jupyter.widget-view+json": {
              "model_id": "581b7e8ed32447bb943d2264981d4d0f",
              "version_minor": 0,
              "version_major": 2
            },
            "text/plain": [
              "HBox(children=(FloatProgress(value=1.0, bar_style='info', max=1.0), HTML(value='')))"
            ]
          },
          "metadata": {
            "tags": []
          }
        },
        {
          "output_type": "stream",
          "text": [
            "Extracting ./data/MNIST/raw/t10k-labels-idx1-ubyte.gz to ./data/MNIST/raw\n",
            "Processing...\n",
            "Done!\n"
          ],
          "name": "stdout"
        },
        {
          "output_type": "stream",
          "text": [
            "/usr/local/lib/python3.6/dist-packages/torchvision/datasets/mnist.py:469: UserWarning: The given NumPy array is not writeable, and PyTorch does not support non-writeable tensors. This means you can write to the underlying (supposedly non-writeable) NumPy array using the tensor. You may want to copy the array to protect its data or make it writeable before converting it to a tensor. This type of warning will be suppressed for the rest of this program. (Triggered internally at  /pytorch/torch/csrc/utils/tensor_numpy.cpp:141.)\n",
            "  return torch.from_numpy(parsed.astype(m[2], copy=False)).view(*s)\n"
          ],
          "name": "stderr"
        }
      ]
    },
    {
      "cell_type": "markdown",
      "metadata": {
        "id": "qgldp_3-Dn0c",
        "colab_type": "text"
      },
      "source": [
        "# Dataloader Arguments & Test/Train Dataloaders\n"
      ]
    },
    {
      "cell_type": "code",
      "metadata": {
        "id": "C8OLDR79DrHG",
        "colab_type": "code",
        "colab": {
          "base_uri": "https://localhost:8080/",
          "height": 34
        },
        "outputId": "18e67e96-69f4-4c6b-a44d-bcfa56a5c011"
      },
      "source": [
        "SEED = 1\n",
        "\n",
        "# CUDA?\n",
        "cuda = torch.cuda.is_available()\n",
        "print(\"CUDA Available?\", cuda)\n",
        "\n",
        "# For reproducibility\n",
        "torch.manual_seed(SEED)\n",
        "\n",
        "if cuda:\n",
        "    torch.cuda.manual_seed(SEED)\n",
        "\n",
        "# dataloader arguments - something you'll fetch these from cmdprmt\n",
        "dataloader_args = dict(shuffle=True, batch_size=128, num_workers=4, pin_memory=True) if cuda else dict(shuffle=True, batch_size=64)\n",
        "\n",
        "# train dataloader\n",
        "train_loader = torch.utils.data.DataLoader(train, **dataloader_args)\n",
        "\n",
        "# test dataloader\n",
        "test_loader = torch.utils.data.DataLoader(test, **dataloader_args)"
      ],
      "execution_count": null,
      "outputs": [
        {
          "output_type": "stream",
          "text": [
            "CUDA Available? True\n"
          ],
          "name": "stdout"
        }
      ]
    },
    {
      "cell_type": "markdown",
      "metadata": {
        "id": "-TFjoFekE_va",
        "colab_type": "text"
      },
      "source": [
        "# Data Statistics\n",
        "\n",
        "It is important to know your data very well. Let's check some of the statistics around our data and how it actually looks like"
      ]
    },
    {
      "cell_type": "code",
      "metadata": {
        "id": "hWZPPo3yEHDW",
        "colab_type": "code",
        "colab": {}
      },
      "source": [
        "# # We'd need to convert it into Numpy! Remember above we have converted it into tensors already\n",
        "# train_data = train.train_data\n",
        "# train_data = train.transform(train_data.numpy())\n",
        "\n",
        "# print('[Train]')\n",
        "# print(' - Numpy Shape:', train.train_data.cpu().numpy().shape)\n",
        "# print(' - Tensor Shape:', train.train_data.size())\n",
        "# print(' - min:', torch.min(train_data))\n",
        "# print(' - max:', torch.max(train_data))\n",
        "# print(' - mean:', torch.mean(train_data))\n",
        "# print(' - std:', torch.std(train_data))\n",
        "# print(' - var:', torch.var(train_data))\n",
        "\n",
        "# dataiter = iter(train_loader)\n",
        "# images, labels = dataiter.next()\n",
        "\n",
        "# print(images.shape)\n",
        "# print(labels.shape)\n",
        "\n",
        "# # Let's visualize some of the images\n",
        "\n",
        "# plt.imshow(images[0].numpy().squeeze(), cmap='gray_r')\n"
      ],
      "execution_count": null,
      "outputs": []
    },
    {
      "cell_type": "markdown",
      "metadata": {
        "id": "7l9lNaWYKuik",
        "colab_type": "text"
      },
      "source": [
        "## MORE\n",
        "\n",
        "It is important that we view as many images as possible. This is required to get some idea on image augmentation later on"
      ]
    },
    {
      "cell_type": "code",
      "metadata": {
        "id": "hXXAg8hbK16u",
        "colab_type": "code",
        "colab": {}
      },
      "source": [
        "# figure = plt.figure()\n",
        "# num_of_images = 60\n",
        "# for index in range(1, num_of_images + 1):\n",
        "#     plt.subplot(6, 10, index)\n",
        "#     plt.axis('off')\n",
        "#     plt.imshow(images[index].numpy().squeeze(), cmap='gray_r')"
      ],
      "execution_count": null,
      "outputs": []
    },
    {
      "cell_type": "markdown",
      "metadata": {
        "id": "JF5-8_I3G6ix",
        "colab_type": "text"
      },
      "source": [
        "# How did we get those mean and std values which we used above?\n",
        "\n",
        "Let's run a small experiment"
      ]
    },
    {
      "cell_type": "code",
      "metadata": {
        "id": "yooPHm_aFc5A",
        "colab_type": "code",
        "colab": {
          "base_uri": "https://localhost:8080/",
          "height": 187
        },
        "outputId": "c9116813-2741-4b5a-c724-d6c7d10d3306"
      },
      "source": [
        "# simple transform\n",
        "simple_transforms = transforms.Compose([\n",
        "                                      #  transforms.Resize((28, 28)),\n",
        "                                      #  transforms.ColorJitter(brightness=0.10, contrast=0.1, saturation=0.10, hue=0.1),\n",
        "                                       transforms.ToTensor(),\n",
        "                                      #  transforms.Normalize((0.1307,), (0.3081,)) # The mean and std have to be sequences (e.g., tuples), therefore you should add a comma after the values. \n",
        "                                       # Note the difference between (0.1307) and (0.1307,)\n",
        "                                       ])\n",
        "exp = datasets.MNIST('./data', train=True, download=True, transform=simple_transforms)\n",
        "exp_data = exp.train_data\n",
        "exp_data = exp.transform(exp_data.numpy())\n",
        "\n",
        "print('[Train]')\n",
        "print(' - Numpy Shape:', exp.train_data.cpu().numpy().shape)\n",
        "print(' - Tensor Shape:', exp.train_data.size())\n",
        "print(' - min:', torch.min(exp_data))\n",
        "print(' - max:', torch.max(exp_data))\n",
        "print(' - mean:', torch.mean(exp_data))\n",
        "print(' - std:', torch.std(exp_data))\n",
        "print(' - var:', torch.var(exp_data))"
      ],
      "execution_count": null,
      "outputs": [
        {
          "output_type": "stream",
          "text": [
            "/usr/local/lib/python3.6/dist-packages/torchvision/datasets/mnist.py:55: UserWarning: train_data has been renamed data\n",
            "  warnings.warn(\"train_data has been renamed data\")\n"
          ],
          "name": "stderr"
        },
        {
          "output_type": "stream",
          "text": [
            "[Train]\n",
            " - Numpy Shape: (60000, 28, 28)\n",
            " - Tensor Shape: torch.Size([60000, 28, 28])\n",
            " - min: tensor(0.)\n",
            " - max: tensor(1.)\n",
            " - mean: tensor(0.1305)\n",
            " - std: tensor(0.3081)\n",
            " - var: tensor(0.0949)\n"
          ],
          "name": "stdout"
        }
      ]
    },
    {
      "cell_type": "markdown",
      "metadata": {
        "id": "ubQL3H6RJL3h",
        "colab_type": "text"
      },
      "source": [
        "# The model\n",
        "Let's start with the model we first saw"
      ]
    },
    {
      "cell_type": "code",
      "metadata": {
        "id": "7FXQlB9kH1ov",
        "colab_type": "code",
        "colab": {}
      },
      "source": [
        "dropout_value = 0.00\n",
        "class Net(nn.Module):\n",
        "    def __init__(self):\n",
        "        super(Net, self).__init__()\n",
        "        # Input Convolution Block\n",
        "        self.convblock1 = nn.Sequential(\n",
        "            nn.Conv2d(in_channels=1, out_channels=10, kernel_size=(3, 3), padding=1, bias=False),\n",
        "            nn.BatchNorm2d(10),\n",
        "            nn.Dropout(dropout_value),\n",
        "            nn.ReLU()\n",
        "        ) # input_side = 28, output_size = 28, RF = 3\n",
        "\n",
        "        # CONVOLUTION BLOCK 1\n",
        "        self.convblock2 = nn.Sequential(\n",
        "            nn.Conv2d(in_channels=10, out_channels=10, kernel_size=(3, 3), padding=1, bias=False),\n",
        "            nn.BatchNorm2d(10),\n",
        "            nn.Dropout(dropout_value),\n",
        "            nn.ReLU()\n",
        "        ) # output_size = 28, RF = 5\n",
        "\n",
        "        # TRANSITION BLOCK 1\n",
        "        self.pool1 = nn.MaxPool2d(2, 2) # output_size = 12, RF = 6\n",
        "\n",
        "        self.convblock3 = nn.Sequential(\n",
        "            nn.Conv2d(in_channels=10, out_channels=10, kernel_size=(3, 3), padding=0, bias=False),\n",
        "            nn.BatchNorm2d(10),\n",
        "            nn.Dropout(dropout_value),\n",
        "            nn.ReLU()\n",
        "        ) # output_size = 12, RF = 10\n",
        "\n",
        "        # CONVOLUTION BLOCK 2\n",
        "        self.convblock4 = nn.Sequential(\n",
        "            nn.Conv2d(in_channels=10, out_channels=10, kernel_size=(3, 3), padding=0, bias=False),\n",
        "            nn.BatchNorm2d(10),\n",
        "            nn.ReLU()\n",
        "        ) # output_size = 10, RF = 14\n",
        "        self.convblock5 = nn.Sequential(\n",
        "            nn.Conv2d(in_channels=10, out_channels=10, kernel_size=(3, 3), padding=0, bias=False),\n",
        "            nn.BatchNorm2d(10),\n",
        "            nn.Dropout(dropout_value),\n",
        "            nn.ReLU()\n",
        "        ) # output_size = 8, RF = 18\n",
        "\n",
        "        self.convblock6 = nn.Sequential(\n",
        "            nn.Conv2d(in_channels=10, out_channels=16, kernel_size=(3, 3), padding=0, bias=False),\n",
        "            nn.BatchNorm2d(16),\n",
        "            nn.Dropout(dropout_value),\n",
        "            nn.ReLU()\n",
        "        ) # output_size = 6, RF = 22\n",
        "\n",
        "        self.convblock7 = nn.Sequential(\n",
        "            nn.Conv2d(in_channels=16, out_channels=16, kernel_size=(3, 3), padding=0, bias=False),\n",
        "            nn.BatchNorm2d(16),\n",
        "            nn.Dropout(dropout_value),\n",
        "            nn.ReLU()\n",
        "        ) # output_size = 4, RF = 26\n",
        "\n",
        "        # OUTPUT BLOCK\n",
        "        self.gap = nn.AvgPool2d(kernel_size=(4,4)) \n",
        "\n",
        "        self.convblock8 = nn.Sequential(\n",
        "            nn.Conv2d(in_channels=16, out_channels=10, kernel_size=(1, 1), padding=0, bias=False),\n",
        "            # nn.ReLU() NEVER!\n",
        "        ) # output_size = 1, RF = 26\n",
        "\n",
        "    def forward(self, x):\n",
        "        x = self.convblock1(x)\n",
        "        x = self.convblock2(x)\n",
        "        x = self.pool1(x)\n",
        "        x = self.convblock3(x)\n",
        "        x = self.convblock4(x)\n",
        "        x = self.convblock5(x)\n",
        "        x = self.convblock6(x)\n",
        "        x = self.convblock7(x)\n",
        "        x = self.gap(x)\n",
        "        x = self.convblock8(x)\n",
        "        x = x.view(-1, 10)\n",
        "        return F.log_softmax(x, dim=-1)"
      ],
      "execution_count": null,
      "outputs": []
    },
    {
      "cell_type": "markdown",
      "metadata": {
        "id": "M3-vp8X9LCWo",
        "colab_type": "text"
      },
      "source": [
        "# Model Params\n",
        "Can't emphasize on how important viewing Model Summary is. \n",
        "Unfortunately, there is no in-built model visualizer, so we have to take external help"
      ]
    },
    {
      "cell_type": "code",
      "metadata": {
        "id": "5skB97zIJQQe",
        "colab_type": "code",
        "colab": {
          "base_uri": "https://localhost:8080/",
          "height": 782
        },
        "outputId": "8e4da324-2ebc-4f42-b6f5-20dfe98d371c"
      },
      "source": [
        "!pip install torchsummary\n",
        "from torchsummary import summary\n",
        "use_cuda = torch.cuda.is_available()\n",
        "device = torch.device(\"cuda\" if use_cuda else \"cpu\")\n",
        "print(device)\n",
        "model = Net().to(device)\n",
        "summary(model, input_size=(1, 28, 28))"
      ],
      "execution_count": null,
      "outputs": [
        {
          "output_type": "stream",
          "text": [
            "Requirement already satisfied: torchsummary in /usr/local/lib/python3.6/dist-packages (1.5.1)\n",
            "cuda\n",
            "----------------------------------------------------------------\n",
            "        Layer (type)               Output Shape         Param #\n",
            "================================================================\n",
            "            Conv2d-1           [-1, 10, 28, 28]              90\n",
            "       BatchNorm2d-2           [-1, 10, 28, 28]              20\n",
            "           Dropout-3           [-1, 10, 28, 28]               0\n",
            "              ReLU-4           [-1, 10, 28, 28]               0\n",
            "            Conv2d-5           [-1, 10, 28, 28]             900\n",
            "       BatchNorm2d-6           [-1, 10, 28, 28]              20\n",
            "           Dropout-7           [-1, 10, 28, 28]               0\n",
            "              ReLU-8           [-1, 10, 28, 28]               0\n",
            "         MaxPool2d-9           [-1, 10, 14, 14]               0\n",
            "           Conv2d-10           [-1, 10, 12, 12]             900\n",
            "      BatchNorm2d-11           [-1, 10, 12, 12]              20\n",
            "          Dropout-12           [-1, 10, 12, 12]               0\n",
            "             ReLU-13           [-1, 10, 12, 12]               0\n",
            "           Conv2d-14           [-1, 10, 10, 10]             900\n",
            "      BatchNorm2d-15           [-1, 10, 10, 10]              20\n",
            "             ReLU-16           [-1, 10, 10, 10]               0\n",
            "           Conv2d-17             [-1, 10, 8, 8]             900\n",
            "      BatchNorm2d-18             [-1, 10, 8, 8]              20\n",
            "          Dropout-19             [-1, 10, 8, 8]               0\n",
            "             ReLU-20             [-1, 10, 8, 8]               0\n",
            "           Conv2d-21             [-1, 16, 6, 6]           1,440\n",
            "      BatchNorm2d-22             [-1, 16, 6, 6]              32\n",
            "          Dropout-23             [-1, 16, 6, 6]               0\n",
            "             ReLU-24             [-1, 16, 6, 6]               0\n",
            "           Conv2d-25             [-1, 16, 4, 4]           2,304\n",
            "      BatchNorm2d-26             [-1, 16, 4, 4]              32\n",
            "          Dropout-27             [-1, 16, 4, 4]               0\n",
            "             ReLU-28             [-1, 16, 4, 4]               0\n",
            "        AvgPool2d-29             [-1, 16, 1, 1]               0\n",
            "           Conv2d-30             [-1, 10, 1, 1]             160\n",
            "================================================================\n",
            "Total params: 7,758\n",
            "Trainable params: 7,758\n",
            "Non-trainable params: 0\n",
            "----------------------------------------------------------------\n",
            "Input size (MB): 0.00\n",
            "Forward/backward pass size (MB): 0.61\n",
            "Params size (MB): 0.03\n",
            "Estimated Total Size (MB): 0.64\n",
            "----------------------------------------------------------------\n"
          ],
          "name": "stdout"
        }
      ]
    },
    {
      "cell_type": "markdown",
      "metadata": {
        "id": "7XfKA62mONmB",
        "colab_type": "text"
      },
      "source": [
        "# Ghost Batch normalization"
      ]
    },
    {
      "cell_type": "code",
      "metadata": {
        "id": "57Cg7PaFORdk",
        "colab_type": "code",
        "colab": {}
      },
      "source": [
        "class BatchNorm(nn.BatchNorm2d):\n",
        "    def __init__(self, num_features, eps=1e-05, momentum=0.1, weight=True, bias=False):\n",
        "        super().__init__(num_features, eps=eps, momentum=momentum)\n",
        "        self.weight.data.fill_(1.0)\n",
        "        self.bias.data.fill_(0.0)\n",
        "        self.weight.requires_grad = weight\n",
        "        self.bias.requires_grad = bias"
      ],
      "execution_count": null,
      "outputs": []
    },
    {
      "cell_type": "code",
      "metadata": {
        "id": "FuP18vCsOV3I",
        "colab_type": "code",
        "colab": {}
      },
      "source": [
        "class GhostBatchNorm(BatchNorm):\n",
        "    def __init__(self, num_features, num_splits, **kw):\n",
        "        super().__init__(num_features, **kw)\n",
        "        self.num_splits = num_splits\n",
        "        self.register_buffer('running_mean', torch.zeros(num_features * self.num_splits))\n",
        "        self.register_buffer('running_var', torch.ones(num_features * self.num_splits))\n",
        "\n",
        "    def train(self, mode=True):\n",
        "        if (self.training is True) and (mode is False):  # lazily collate stats when we are going to use them\n",
        "            self.running_mean = torch.mean(self.running_mean.view(self.num_splits, self.num_features), dim=0).repeat(\n",
        "                self.num_splits)\n",
        "            self.running_var = torch.mean(self.running_var.view(self.num_splits, self.num_features), dim=0).repeat(\n",
        "                self.num_splits)\n",
        "        return super().train(mode)\n",
        "\n",
        "    def forward(self, input):\n",
        "        N, C, H, W = input.shape\n",
        "        if self.training or not self.track_running_stats:\n",
        "            return F.batch_norm(\n",
        "                input.view(-1, C * self.num_splits, H, W), self.running_mean, self.running_var,\n",
        "                self.weight.repeat(self.num_splits), self.bias.repeat(self.num_splits),\n",
        "                True, self.momentum, self.eps).view(N, C, H, W)\n",
        "        else:\n",
        "            return F.batch_norm(\n",
        "                input, self.running_mean[:self.num_features], self.running_var[:self.num_features],\n",
        "                self.weight, self.bias, False, self.momentum, self.eps)"
      ],
      "execution_count": null,
      "outputs": []
    },
    {
      "cell_type": "code",
      "metadata": {
        "id": "y3vSVT3rOhIV",
        "colab_type": "code",
        "colab": {}
      },
      "source": [
        "class NetWithGBN(nn.Module):\n",
        "    def __init__(self, dropout_value: int):\n",
        "        super(NetWithGBN, self).__init__()\n",
        "        # Input Convolution Block\n",
        "        self.convblock1 = nn.Sequential(\n",
        "            nn.Conv2d(in_channels=1, out_channels=10, kernel_size=(3, 3), padding=1, bias=False),\n",
        "            GhostBatchNorm(10, 2),\n",
        "            nn.Dropout(dropout_value),\n",
        "            nn.ReLU()\n",
        "        ) # input_side = 28, output_size = 28, RF = 3\n",
        "\n",
        "        # CONVOLUTION BLOCK 1\n",
        "        self.convblock2 = nn.Sequential(\n",
        "            nn.Conv2d(in_channels=10, out_channels=10, kernel_size=(3, 3), padding=1, bias=False),\n",
        "            GhostBatchNorm(10,2),\n",
        "            nn.Dropout(dropout_value),\n",
        "            nn.ReLU()\n",
        "        ) # output_size = 28, RF = 5\n",
        "\n",
        "        # TRANSITION BLOCK 1\n",
        "        self.pool1 = nn.MaxPool2d(2, 2) # output_size = 12, RF = 6\n",
        "\n",
        "        self.convblock3 = nn.Sequential(\n",
        "            nn.Conv2d(in_channels=10, out_channels=10, kernel_size=(3, 3), padding=0, bias=False),\n",
        "            GhostBatchNorm(10, 2),\n",
        "            nn.Dropout(dropout_value),\n",
        "            nn.ReLU()\n",
        "        ) # output_size = 12, RF = 10\n",
        "\n",
        "        # CONVOLUTION BLOCK 2\n",
        "        self.convblock4 = nn.Sequential(\n",
        "            nn.Conv2d(in_channels=10, out_channels=10, kernel_size=(3, 3), padding=0, bias=False),\n",
        "            GhostBatchNorm(10,2), \n",
        "            nn.ReLU()\n",
        "        ) # output_size = 10, RF = 14\n",
        "        self.convblock5 = nn.Sequential(\n",
        "            nn.Conv2d(in_channels=10, out_channels=10, kernel_size=(3, 3), padding=0, bias=False),\n",
        "            GhostBatchNorm(10,2), \n",
        "            nn.Dropout(dropout_value),\n",
        "            nn.ReLU()\n",
        "        ) # output_size = 8, RF = 18\n",
        "\n",
        "        self.convblock6 = nn.Sequential(\n",
        "            nn.Conv2d(in_channels=10, out_channels=16, kernel_size=(3, 3), padding=0, bias=False),\n",
        "            GhostBatchNorm(16, 2), \n",
        "            nn.Dropout(dropout_value),\n",
        "            nn.ReLU()\n",
        "        ) # output_size = 6, RF = 22\n",
        "\n",
        "        self.convblock7 = nn.Sequential(\n",
        "            nn.Conv2d(in_channels=16, out_channels=16, kernel_size=(3, 3), padding=0, bias=False),\n",
        "            GhostBatchNorm(16, 2),\n",
        "            nn.Dropout(dropout_value),\n",
        "            nn.ReLU()\n",
        "        ) # output_size = 4, RF = 26\n",
        "\n",
        "        # OUTPUT BLOCK\n",
        "        self.gap = nn.AvgPool2d(kernel_size=(4,4)) \n",
        "\n",
        "        self.convblock8 = nn.Sequential(\n",
        "            nn.Conv2d(in_channels=16, out_channels=10, kernel_size=(1, 1), padding=0, bias=False),\n",
        "            # nn.ReLU() NEVER!\n",
        "        ) # output_size = 1, RF = 26\n",
        "\n",
        "    def forward(self, x):\n",
        "        x = self.convblock1(x)\n",
        "        x = self.convblock2(x)\n",
        "        x = self.pool1(x)\n",
        "        x = self.convblock3(x)\n",
        "        x = self.convblock4(x)\n",
        "        x = self.convblock5(x)\n",
        "        x = self.convblock6(x)\n",
        "        x = self.convblock7(x)\n",
        "        x = self.gap(x)\n",
        "        x = self.convblock8(x)\n",
        "        x = x.view(-1, 10)\n",
        "        return F.log_softmax(x, dim=-1)"
      ],
      "execution_count": null,
      "outputs": []
    },
    {
      "cell_type": "code",
      "metadata": {
        "id": "i13K7hRxOlxv",
        "colab_type": "code",
        "colab": {
          "base_uri": "https://localhost:8080/",
          "height": 782
        },
        "outputId": "24b5c2a1-a889-4250-b1c9-bb65bd1b2c61"
      },
      "source": [
        "!pip install torchsummary\n",
        "from torchsummary import summary\n",
        "use_cuda = torch.cuda.is_available()\n",
        "device = torch.device(\"cuda\" if use_cuda else \"cpu\")\n",
        "print(device)\n",
        "model = NetWithGBN(dropout_value=0.0).to(device)\n",
        "summary(model, input_size=(1, 28, 28))"
      ],
      "execution_count": null,
      "outputs": [
        {
          "output_type": "stream",
          "text": [
            "Requirement already satisfied: torchsummary in /usr/local/lib/python3.6/dist-packages (1.5.1)\n",
            "cuda\n",
            "----------------------------------------------------------------\n",
            "        Layer (type)               Output Shape         Param #\n",
            "================================================================\n",
            "            Conv2d-1           [-1, 10, 28, 28]              90\n",
            "    GhostBatchNorm-2           [-1, 10, 28, 28]              20\n",
            "           Dropout-3           [-1, 10, 28, 28]               0\n",
            "              ReLU-4           [-1, 10, 28, 28]               0\n",
            "            Conv2d-5           [-1, 10, 28, 28]             900\n",
            "    GhostBatchNorm-6           [-1, 10, 28, 28]              20\n",
            "           Dropout-7           [-1, 10, 28, 28]               0\n",
            "              ReLU-8           [-1, 10, 28, 28]               0\n",
            "         MaxPool2d-9           [-1, 10, 14, 14]               0\n",
            "           Conv2d-10           [-1, 10, 12, 12]             900\n",
            "   GhostBatchNorm-11           [-1, 10, 12, 12]              20\n",
            "          Dropout-12           [-1, 10, 12, 12]               0\n",
            "             ReLU-13           [-1, 10, 12, 12]               0\n",
            "           Conv2d-14           [-1, 10, 10, 10]             900\n",
            "   GhostBatchNorm-15           [-1, 10, 10, 10]              20\n",
            "             ReLU-16           [-1, 10, 10, 10]               0\n",
            "           Conv2d-17             [-1, 10, 8, 8]             900\n",
            "   GhostBatchNorm-18             [-1, 10, 8, 8]              20\n",
            "          Dropout-19             [-1, 10, 8, 8]               0\n",
            "             ReLU-20             [-1, 10, 8, 8]               0\n",
            "           Conv2d-21             [-1, 16, 6, 6]           1,440\n",
            "   GhostBatchNorm-22             [-1, 16, 6, 6]              32\n",
            "          Dropout-23             [-1, 16, 6, 6]               0\n",
            "             ReLU-24             [-1, 16, 6, 6]               0\n",
            "           Conv2d-25             [-1, 16, 4, 4]           2,304\n",
            "   GhostBatchNorm-26             [-1, 16, 4, 4]              32\n",
            "          Dropout-27             [-1, 16, 4, 4]               0\n",
            "             ReLU-28             [-1, 16, 4, 4]               0\n",
            "        AvgPool2d-29             [-1, 16, 1, 1]               0\n",
            "           Conv2d-30             [-1, 10, 1, 1]             160\n",
            "================================================================\n",
            "Total params: 7,758\n",
            "Trainable params: 7,758\n",
            "Non-trainable params: 0\n",
            "----------------------------------------------------------------\n",
            "Input size (MB): 0.00\n",
            "Forward/backward pass size (MB): 0.61\n",
            "Params size (MB): 0.03\n",
            "Estimated Total Size (MB): 0.64\n",
            "----------------------------------------------------------------\n"
          ],
          "name": "stdout"
        }
      ]
    },
    {
      "cell_type": "markdown",
      "metadata": {
        "id": "1__x_SbrL7z3",
        "colab_type": "text"
      },
      "source": [
        "# Training and Testing\n",
        "\n",
        "All right, so we have 6.3M params, and that's too many, we know that. But the purpose of this notebook is to set things right for our future experiments. \n",
        "\n",
        "Looking at logs can be boring, so we'll introduce **tqdm** progressbar to get cooler logs. \n",
        "\n",
        "Let's write train and test functions"
      ]
    },
    {
      "cell_type": "code",
      "metadata": {
        "id": "fbkF2nN_LYIb",
        "colab_type": "code",
        "colab": {}
      },
      "source": [
        "from tqdm import tqdm\n",
        "\n",
        "class Trainer():\n",
        "\n",
        "  def __init__(self):\n",
        "    self.train_losses = []\n",
        "    self.test_losses = []\n",
        "    self.train_acc = []\n",
        "    self.test_acc = []\n",
        "\n",
        "  def train(self, model, device, train_loader, optimizer, epoch, lambda_l1):\n",
        "    model.train()\n",
        "    pbar = tqdm(train_loader)\n",
        "    correct = 0\n",
        "    processed = 0\n",
        "    for batch_idx, (data, target) in enumerate(pbar):\n",
        "      # get samples\n",
        "      data, target = data.to(device), target.to(device)\n",
        "\n",
        "      # Init\n",
        "      optimizer.zero_grad()\n",
        "      # In PyTorch, we need to set the gradients to zero before starting to do backpropragation because PyTorch accumulates the gradients on subsequent backward passes. \n",
        "      # Because of this, when you start your training loop, ideally you should zero out the gradients so that you do the parameter update correctly.\n",
        "\n",
        "      # Predict\n",
        "      y_pred = model(data)\n",
        "\n",
        "      # Calculate loss\n",
        "      loss = F.nll_loss(y_pred, target)\n",
        "\n",
        "      # L2 loss\n",
        "\n",
        "      # L1 loss\n",
        "      l1 = 0\n",
        "      # lambda_l1 = 0.05\n",
        "      for p in model.parameters():\n",
        "        l1 = l1 + p.abs().sum()\n",
        "      loss = loss + lambda_l1*l1\n",
        "\n",
        "      self.train_losses.append(loss)\n",
        "\n",
        "      # Backpropagation\n",
        "      loss.backward()\n",
        "      optimizer.step()\n",
        "\n",
        "      # Learning rate for onecycle LR # Vamsi - added\n",
        "      # scheduler.step()\n",
        "\n",
        "      # Update pbar-tqdm\n",
        "      \n",
        "      pred = y_pred.argmax(dim=1, keepdim=True)  # get the index of the max log-probability\n",
        "      correct += pred.eq(target.view_as(pred)).sum().item()\n",
        "      processed += len(data)\n",
        "\n",
        "      pbar.set_description(desc= f'Train set: Loss={loss.item()} Batch_id={batch_idx} Accuracy={100*correct/processed:0.2f}')\n",
        "      self.train_acc.append(100*correct/processed)\n",
        "\n",
        "  def test(self, model, device, test_loader):\n",
        "      model.eval()\n",
        "      test_loss = 0\n",
        "      correct = 0\n",
        "      with torch.no_grad():\n",
        "          for data, target in test_loader:\n",
        "              data, target = data.to(device), target.to(device)\n",
        "              output = model(data)\n",
        "              test_loss += F.nll_loss(output, target, reduction='sum').item()  # sum up batch loss\n",
        "              pred = output.argmax(dim=1, keepdim=True)  # get the index of the max log-probability\n",
        "              correct += pred.eq(target.view_as(pred)).sum().item()\n",
        "\n",
        "      test_loss /= len(test_loader.dataset)\n",
        "      self.test_losses.append(test_loss)\n",
        "\n",
        "      print('\\nTest set: Average loss: {:.4f}, Accuracy: {}/{} ({:.2f}%)\\n'.format(\n",
        "          test_loss, correct, len(test_loader.dataset),\n",
        "          100. * correct / len(test_loader.dataset)))\n",
        "      \n",
        "      self.test_acc.append(100. * correct / len(test_loader.dataset))\n",
        "\n",
        "  def getValues(self):\n",
        "    return (self.train_losses, self.test_losses, self.train_acc, self.test_acc)\n",
        "\n",
        "  def get_misclassified(self, model, test_loader, device):\n",
        "    misclassified = []\n",
        "    misclassified_pred = []\n",
        "    misclassified_target = []\n",
        "    # put the model to evaluation mode\n",
        "    model.eval()\n",
        "    # turn off gradients\n",
        "    with torch.no_grad():\n",
        "        for data, target in test_loader:\n",
        "          # move them to the respective device\n",
        "          data, target = data.to(device), target.to(device)\n",
        "          # do inferencing\n",
        "          output = model(data)\n",
        "          # get the predicted output\n",
        "          pred = output.argmax(dim=1, keepdim=True)\n",
        "\n",
        "          # get the current misclassified in this batch\n",
        "          list_misclassified = (pred.eq(target.view_as(pred)) == False)\n",
        "          batch_misclassified = data[list_misclassified]\n",
        "          batch_mis_pred = pred[list_misclassified]\n",
        "          batch_mis_target = target.view_as(pred)[list_misclassified]\n",
        "\n",
        "          misclassified.append(batch_misclassified)\n",
        "          misclassified_pred.append(batch_mis_pred)\n",
        "          misclassified_target.append(batch_mis_target)\n",
        "\n",
        "    # group all the batched together\n",
        "    misclassified = torch.cat(misclassified)\n",
        "    misclassified_pred = torch.cat(misclassified_pred)\n",
        "    misclassified_target = torch.cat(misclassified_target)\n",
        "\n",
        "    return list(map(lambda x, y, z: (x, y, z), misclassified, misclassified_pred, misclassified_target))"
      ],
      "execution_count": null,
      "outputs": []
    },
    {
      "cell_type": "code",
      "metadata": {
        "id": "UrbM9sElO5hw",
        "colab_type": "code",
        "colab": {}
      },
      "source": [
        "def plot_metrics(train_losses, train_acc, test_losses, test_acc):\n",
        "    fig, axs = plt.subplots(2,2,figsize=(15,10))\n",
        "    axs[0, 0].plot(train_losses)\n",
        "    axs[0, 0].set_title(\"Training Loss\")\n",
        "    axs[1, 0].plot(train_acc)\n",
        "    axs[1, 0].set_title(\"Training Accuracy\")\n",
        "    axs[0, 1].plot(test_losses)\n",
        "    axs[0, 1].set_title(\"Test Loss\")\n",
        "    axs[1, 1].plot(test_acc)\n",
        "    axs[1, 1].set_title(\"Test Accuracy\")\n",
        "\n",
        "def plot_misclassification(misclassified):\n",
        "    print('Total Misclassifications : {}'.format(len(misclassified)))\n",
        "    num_images = 25\n",
        "    fig = plt.figure(figsize=(14, 16))\n",
        "    fig.suptitle('Misclassifications')\n",
        "    for idx, (image, pred, target) in enumerate(misclassified[:num_images]):\n",
        "        image, pred, target = image.cpu().numpy(), pred.cpu(), target.cpu()\n",
        "        ax = fig.add_subplot(5, 5, idx+1)\n",
        "        ax.axis('off')\n",
        "        ax.set_title('target {}\\npred {}'.format(target.item(), pred.item()), fontsize=12)\n",
        "        ax.imshow(image.squeeze())\n",
        "    plt.show()"
      ],
      "execution_count": null,
      "outputs": []
    },
    {
      "cell_type": "markdown",
      "metadata": {
        "id": "drokW8wWODKq",
        "colab_type": "text"
      },
      "source": [
        "# Let's Train and test our model"
      ]
    },
    {
      "cell_type": "code",
      "metadata": {
        "id": "pV-9BgBCO9rz",
        "colab_type": "code",
        "colab": {}
      },
      "source": [
        "from torch.optim.lr_scheduler import StepLR,OneCycleLR"
      ],
      "execution_count": null,
      "outputs": []
    },
    {
      "cell_type": "code",
      "metadata": {
        "id": "g3BUYgScPDHs",
        "colab_type": "code",
        "colab": {}
      },
      "source": [
        "model_gbn =  NetWithGBN(dropout_value=0.01).to(device)\n",
        "model_bn =  Net().to(device)\n",
        "# optimizer = optim.SGD(model.parameters(), lr=0.01, momentum=0.9, weight_decay=5e-3)"
      ],
      "execution_count": null,
      "outputs": []
    },
    {
      "cell_type": "code",
      "metadata": {
        "id": "xMCFxeAKOB53",
        "colab_type": "code",
        "colab": {
          "base_uri": "https://localhost:8080/",
          "height": 1000
        },
        "outputId": "f3bafc85-87ed-4aec-f203-edd9ae67a6b6"
      },
      "source": [
        "trail_iterations = [('bn_l1', model_bn, 5e-3, 0), ('bn_l2', model_bn, 0, 5e-4), ('bn_l1_l2', model_bn,5e-3, 5e-4) , \n",
        "                    ('gbn', model_gbn,0,0), ('gbn_l1_l2', model_gbn, 5e-3, 5e-4)]\n",
        "\n",
        "metric_acc_values = []\n",
        "metric_loss_values = []\n",
        "\n",
        "for i, trail in enumerate(trail_iterations):\n",
        "  print(\"\\n-----------------------------------------------\")\n",
        "  print(\"\\n-----------------------------------------------\")\n",
        "  print(trail[0])\n",
        "  EPOCHS = 25\n",
        "  if i in (0,1,2):\n",
        "    myModel = Net().to(device)\n",
        "  else:\n",
        "    myModel = NetWithGBN(0.01).to(device)\n",
        "  optimizer = optim.SGD(myModel.parameters(), lr=0.01, momentum=0.9, weight_decay=trail[2])\n",
        "  scheduler = StepLR(optimizer, step_size=6, gamma=0.1)\n",
        "\n",
        "  trainer = Trainer()\n",
        "\n",
        "  for epoch in range(EPOCHS):\n",
        "      print(\"EPOCH:\", epoch, \"last LR=\",scheduler.get_last_lr(), \"LR = \", scheduler.get_lr())\n",
        "      # def train(model, device, train_loader, optimizer, epoch, lambda_l1):\n",
        "      trainer.train(myModel, device, train_loader, optimizer, epoch, trail[3])\n",
        "      trainer.test(myModel, device, test_loader)\n",
        "      scheduler.step() # for StepLR\n",
        "\n",
        "  (train_losses, test_losses, train_acc, test_acc) = trainer.getValues()\n",
        "\n",
        "  plot_metrics(train_losses, train_acc, test_losses, test_acc)\n",
        "  metric_acc_values.extend([test_acc])\n",
        "  metric_loss_values.extend([test_losses])\n",
        "  # get_misclassified(self, model, test_loader, device):\n",
        "  misclassifications = trainer.get_misclassified(myModel, test_loader, device)\n",
        "  plot_misclassification(misclassified=misclassifications)"
      ],
      "execution_count": null,
      "outputs": [
        {
          "output_type": "stream",
          "text": [
            "/usr/local/lib/python3.6/dist-packages/torch/optim/lr_scheduler.py:351: UserWarning: To get the last learning rate computed by the scheduler, please use `get_last_lr()`.\n",
            "  \"please use `get_last_lr()`.\", UserWarning)\n",
            "\r  0%|          | 0/469 [00:00<?, ?it/s]"
          ],
          "name": "stderr"
        },
        {
          "output_type": "stream",
          "text": [
            "\n",
            "-----------------------------------------------\n",
            "\n",
            "-----------------------------------------------\n",
            "bn_l1\n",
            "EPOCH: 0 last LR= [0.01] LR =  [0.01]\n"
          ],
          "name": "stdout"
        },
        {
          "output_type": "stream",
          "text": [
            "Train set: Loss=0.09862027317285538 Batch_id=468 Accuracy=85.97: 100%|██████████| 469/469 [00:16<00:00, 28.94it/s]\n",
            "  0%|          | 0/469 [00:00<?, ?it/s]"
          ],
          "name": "stderr"
        },
        {
          "output_type": "stream",
          "text": [
            "\n",
            "Test set: Average loss: 0.1112, Accuracy: 9785/10000 (97.85%)\n",
            "\n",
            "EPOCH: 1 last LR= [0.01] LR =  [0.01]\n"
          ],
          "name": "stdout"
        },
        {
          "output_type": "stream",
          "text": [
            "Train set: Loss=0.09307295829057693 Batch_id=468 Accuracy=97.92: 100%|██████████| 469/469 [00:15<00:00, 29.67it/s]\n",
            "  0%|          | 0/469 [00:00<?, ?it/s]"
          ],
          "name": "stderr"
        },
        {
          "output_type": "stream",
          "text": [
            "\n",
            "Test set: Average loss: 0.0708, Accuracy: 9858/10000 (98.58%)\n",
            "\n",
            "EPOCH: 2 last LR= [0.01] LR =  [0.01]\n"
          ],
          "name": "stdout"
        },
        {
          "output_type": "stream",
          "text": [
            "Train set: Loss=0.051820214837789536 Batch_id=468 Accuracy=98.28: 100%|██████████| 469/469 [00:16<00:00, 28.68it/s]\n",
            "  0%|          | 0/469 [00:00<?, ?it/s]"
          ],
          "name": "stderr"
        },
        {
          "output_type": "stream",
          "text": [
            "\n",
            "Test set: Average loss: 0.0624, Accuracy: 9875/10000 (98.75%)\n",
            "\n",
            "EPOCH: 3 last LR= [0.01] LR =  [0.01]\n"
          ],
          "name": "stdout"
        },
        {
          "output_type": "stream",
          "text": [
            "Train set: Loss=0.1193796917796135 Batch_id=468 Accuracy=98.37: 100%|██████████| 469/469 [00:15<00:00, 30.11it/s]\n",
            "  0%|          | 0/469 [00:00<?, ?it/s]"
          ],
          "name": "stderr"
        },
        {
          "output_type": "stream",
          "text": [
            "\n",
            "Test set: Average loss: 0.0576, Accuracy: 9862/10000 (98.62%)\n",
            "\n",
            "EPOCH: 4 last LR= [0.01] LR =  [0.01]\n"
          ],
          "name": "stdout"
        },
        {
          "output_type": "stream",
          "text": [
            "Train set: Loss=0.11078294366598129 Batch_id=468 Accuracy=98.43: 100%|██████████| 469/469 [00:15<00:00, 30.40it/s]\n",
            "  0%|          | 0/469 [00:00<?, ?it/s]"
          ],
          "name": "stderr"
        },
        {
          "output_type": "stream",
          "text": [
            "\n",
            "Test set: Average loss: 0.0700, Accuracy: 9853/10000 (98.53%)\n",
            "\n",
            "EPOCH: 5 last LR= [0.01] LR =  [0.01]\n"
          ],
          "name": "stdout"
        },
        {
          "output_type": "stream",
          "text": [
            "Train set: Loss=0.11400559544563293 Batch_id=468 Accuracy=98.42: 100%|██████████| 469/469 [00:15<00:00, 30.46it/s]\n",
            "  0%|          | 0/469 [00:00<?, ?it/s]"
          ],
          "name": "stderr"
        },
        {
          "output_type": "stream",
          "text": [
            "\n",
            "Test set: Average loss: 0.0783, Accuracy: 9820/10000 (98.20%)\n",
            "\n",
            "EPOCH: 6 last LR= [0.001] LR =  [0.0001]\n"
          ],
          "name": "stdout"
        },
        {
          "output_type": "stream",
          "text": [
            "Train set: Loss=0.023029379546642303 Batch_id=468 Accuracy=98.94: 100%|██████████| 469/469 [00:15<00:00, 30.99it/s]\n",
            "  0%|          | 0/469 [00:00<?, ?it/s]"
          ],
          "name": "stderr"
        },
        {
          "output_type": "stream",
          "text": [
            "\n",
            "Test set: Average loss: 0.0352, Accuracy: 9934/10000 (99.34%)\n",
            "\n",
            "EPOCH: 7 last LR= [0.001] LR =  [0.001]\n"
          ],
          "name": "stdout"
        },
        {
          "output_type": "stream",
          "text": [
            "Train set: Loss=0.04122372344136238 Batch_id=468 Accuracy=98.99: 100%|██████████| 469/469 [00:14<00:00, 31.67it/s]\n",
            "  0%|          | 0/469 [00:00<?, ?it/s]"
          ],
          "name": "stderr"
        },
        {
          "output_type": "stream",
          "text": [
            "\n",
            "Test set: Average loss: 0.0352, Accuracy: 9937/10000 (99.37%)\n",
            "\n",
            "EPOCH: 8 last LR= [0.001] LR =  [0.001]\n"
          ],
          "name": "stdout"
        },
        {
          "output_type": "stream",
          "text": [
            "Train set: Loss=0.07419836521148682 Batch_id=468 Accuracy=98.95: 100%|██████████| 469/469 [00:14<00:00, 31.54it/s]\n",
            "  0%|          | 0/469 [00:00<?, ?it/s]"
          ],
          "name": "stderr"
        },
        {
          "output_type": "stream",
          "text": [
            "\n",
            "Test set: Average loss: 0.0353, Accuracy: 9939/10000 (99.39%)\n",
            "\n",
            "EPOCH: 9 last LR= [0.001] LR =  [0.001]\n"
          ],
          "name": "stdout"
        },
        {
          "output_type": "stream",
          "text": [
            "Train set: Loss=0.05689459666609764 Batch_id=468 Accuracy=99.06: 100%|██████████| 469/469 [00:15<00:00, 31.17it/s]\n",
            "  0%|          | 0/469 [00:00<?, ?it/s]"
          ],
          "name": "stderr"
        },
        {
          "output_type": "stream",
          "text": [
            "\n",
            "Test set: Average loss: 0.0346, Accuracy: 9933/10000 (99.33%)\n",
            "\n",
            "EPOCH: 10 last LR= [0.001] LR =  [0.001]\n"
          ],
          "name": "stdout"
        },
        {
          "output_type": "stream",
          "text": [
            "Train set: Loss=0.032504528760910034 Batch_id=468 Accuracy=99.11: 100%|██████████| 469/469 [00:14<00:00, 32.44it/s]\n",
            "  0%|          | 0/469 [00:00<?, ?it/s]"
          ],
          "name": "stderr"
        },
        {
          "output_type": "stream",
          "text": [
            "\n",
            "Test set: Average loss: 0.0338, Accuracy: 9943/10000 (99.43%)\n",
            "\n",
            "EPOCH: 11 last LR= [0.001] LR =  [0.001]\n"
          ],
          "name": "stdout"
        },
        {
          "output_type": "stream",
          "text": [
            "Train set: Loss=0.07628245651721954 Batch_id=468 Accuracy=99.13: 100%|██████████| 469/469 [00:14<00:00, 32.01it/s]\n",
            "  0%|          | 0/469 [00:00<?, ?it/s]"
          ],
          "name": "stderr"
        },
        {
          "output_type": "stream",
          "text": [
            "\n",
            "Test set: Average loss: 0.0339, Accuracy: 9936/10000 (99.36%)\n",
            "\n",
            "EPOCH: 12 last LR= [0.0001] LR =  [1e-05]\n"
          ],
          "name": "stdout"
        },
        {
          "output_type": "stream",
          "text": [
            "Train set: Loss=0.052150432020425797 Batch_id=468 Accuracy=99.19: 100%|██████████| 469/469 [00:14<00:00, 32.24it/s]\n",
            "  0%|          | 0/469 [00:00<?, ?it/s]"
          ],
          "name": "stderr"
        },
        {
          "output_type": "stream",
          "text": [
            "\n",
            "Test set: Average loss: 0.0332, Accuracy: 9939/10000 (99.39%)\n",
            "\n",
            "EPOCH: 13 last LR= [0.0001] LR =  [0.0001]\n"
          ],
          "name": "stdout"
        },
        {
          "output_type": "stream",
          "text": [
            "Train set: Loss=0.03543875738978386 Batch_id=468 Accuracy=99.12: 100%|██████████| 469/469 [00:14<00:00, 32.29it/s]\n",
            "  0%|          | 0/469 [00:00<?, ?it/s]"
          ],
          "name": "stderr"
        },
        {
          "output_type": "stream",
          "text": [
            "\n",
            "Test set: Average loss: 0.0336, Accuracy: 9940/10000 (99.40%)\n",
            "\n",
            "EPOCH: 14 last LR= [0.0001] LR =  [0.0001]\n"
          ],
          "name": "stdout"
        },
        {
          "output_type": "stream",
          "text": [
            "Train set: Loss=0.03024923801422119 Batch_id=468 Accuracy=99.21: 100%|██████████| 469/469 [00:14<00:00, 31.62it/s]\n",
            "  0%|          | 0/469 [00:00<?, ?it/s]"
          ],
          "name": "stderr"
        },
        {
          "output_type": "stream",
          "text": [
            "\n",
            "Test set: Average loss: 0.0329, Accuracy: 9937/10000 (99.37%)\n",
            "\n",
            "EPOCH: 15 last LR= [0.0001] LR =  [0.0001]\n"
          ],
          "name": "stdout"
        },
        {
          "output_type": "stream",
          "text": [
            "Train set: Loss=0.049018654972314835 Batch_id=468 Accuracy=99.19: 100%|██████████| 469/469 [00:14<00:00, 31.32it/s]\n",
            "  0%|          | 0/469 [00:00<?, ?it/s]"
          ],
          "name": "stderr"
        },
        {
          "output_type": "stream",
          "text": [
            "\n",
            "Test set: Average loss: 0.0337, Accuracy: 9940/10000 (99.40%)\n",
            "\n",
            "EPOCH: 16 last LR= [0.0001] LR =  [0.0001]\n"
          ],
          "name": "stdout"
        },
        {
          "output_type": "stream",
          "text": [
            "Train set: Loss=0.08829884976148605 Batch_id=468 Accuracy=99.19: 100%|██████████| 469/469 [00:14<00:00, 31.50it/s]\n",
            "  0%|          | 0/469 [00:00<?, ?it/s]"
          ],
          "name": "stderr"
        },
        {
          "output_type": "stream",
          "text": [
            "\n",
            "Test set: Average loss: 0.0327, Accuracy: 9937/10000 (99.37%)\n",
            "\n",
            "EPOCH: 17 last LR= [0.0001] LR =  [0.0001]\n"
          ],
          "name": "stdout"
        },
        {
          "output_type": "stream",
          "text": [
            "Train set: Loss=0.03915736451745033 Batch_id=468 Accuracy=99.22: 100%|██████████| 469/469 [00:14<00:00, 32.16it/s]\n",
            "  0%|          | 0/469 [00:00<?, ?it/s]"
          ],
          "name": "stderr"
        },
        {
          "output_type": "stream",
          "text": [
            "\n",
            "Test set: Average loss: 0.0333, Accuracy: 9940/10000 (99.40%)\n",
            "\n",
            "EPOCH: 18 last LR= [1e-05] LR =  [1.0000000000000002e-06]\n"
          ],
          "name": "stdout"
        },
        {
          "output_type": "stream",
          "text": [
            "Train set: Loss=0.027452275156974792 Batch_id=468 Accuracy=99.18: 100%|██████████| 469/469 [00:14<00:00, 32.50it/s]\n",
            "  0%|          | 0/469 [00:00<?, ?it/s]"
          ],
          "name": "stderr"
        },
        {
          "output_type": "stream",
          "text": [
            "\n",
            "Test set: Average loss: 0.0329, Accuracy: 9940/10000 (99.40%)\n",
            "\n",
            "EPOCH: 19 last LR= [1e-05] LR =  [1e-05]\n"
          ],
          "name": "stdout"
        },
        {
          "output_type": "stream",
          "text": [
            "Train set: Loss=0.042505402117967606 Batch_id=468 Accuracy=99.25: 100%|██████████| 469/469 [00:14<00:00, 32.75it/s]\n",
            "  0%|          | 0/469 [00:00<?, ?it/s]"
          ],
          "name": "stderr"
        },
        {
          "output_type": "stream",
          "text": [
            "\n",
            "Test set: Average loss: 0.0331, Accuracy: 9940/10000 (99.40%)\n",
            "\n",
            "EPOCH: 20 last LR= [1e-05] LR =  [1e-05]\n"
          ],
          "name": "stdout"
        },
        {
          "output_type": "stream",
          "text": [
            "Train set: Loss=0.040764253586530685 Batch_id=468 Accuracy=99.25: 100%|██████████| 469/469 [00:14<00:00, 32.42it/s]\n",
            "  0%|          | 0/469 [00:00<?, ?it/s]"
          ],
          "name": "stderr"
        },
        {
          "output_type": "stream",
          "text": [
            "\n",
            "Test set: Average loss: 0.0324, Accuracy: 9938/10000 (99.38%)\n",
            "\n",
            "EPOCH: 21 last LR= [1e-05] LR =  [1e-05]\n"
          ],
          "name": "stdout"
        },
        {
          "output_type": "stream",
          "text": [
            "Train set: Loss=0.020710522308945656 Batch_id=468 Accuracy=99.23: 100%|██████████| 469/469 [00:14<00:00, 33.09it/s]\n",
            "  0%|          | 0/469 [00:00<?, ?it/s]"
          ],
          "name": "stderr"
        },
        {
          "output_type": "stream",
          "text": [
            "\n",
            "Test set: Average loss: 0.0332, Accuracy: 9942/10000 (99.42%)\n",
            "\n",
            "EPOCH: 22 last LR= [1e-05] LR =  [1e-05]\n"
          ],
          "name": "stdout"
        },
        {
          "output_type": "stream",
          "text": [
            "Train set: Loss=0.044341836124658585 Batch_id=468 Accuracy=99.22: 100%|██████████| 469/469 [00:14<00:00, 32.74it/s]\n",
            "  0%|          | 0/469 [00:00<?, ?it/s]"
          ],
          "name": "stderr"
        },
        {
          "output_type": "stream",
          "text": [
            "\n",
            "Test set: Average loss: 0.0327, Accuracy: 9940/10000 (99.40%)\n",
            "\n",
            "EPOCH: 23 last LR= [1e-05] LR =  [1e-05]\n"
          ],
          "name": "stdout"
        },
        {
          "output_type": "stream",
          "text": [
            "Train set: Loss=0.06023511290550232 Batch_id=468 Accuracy=99.20: 100%|██████████| 469/469 [00:14<00:00, 32.94it/s]\n",
            "  0%|          | 0/469 [00:00<?, ?it/s]"
          ],
          "name": "stderr"
        },
        {
          "output_type": "stream",
          "text": [
            "\n",
            "Test set: Average loss: 0.0327, Accuracy: 9936/10000 (99.36%)\n",
            "\n",
            "EPOCH: 24 last LR= [1.0000000000000002e-06] LR =  [1.0000000000000002e-07]\n"
          ],
          "name": "stdout"
        },
        {
          "output_type": "stream",
          "text": [
            "Train set: Loss=0.06468421965837479 Batch_id=468 Accuracy=99.24: 100%|██████████| 469/469 [00:14<00:00, 32.98it/s]\n"
          ],
          "name": "stderr"
        },
        {
          "output_type": "stream",
          "text": [
            "\n",
            "Test set: Average loss: 0.0324, Accuracy: 9939/10000 (99.39%)\n",
            "\n",
            "Total Misclassifications : 61\n"
          ],
          "name": "stdout"
        },
        {
          "output_type": "display_data",
          "data": {
            "image/png": "[encoded data removed]",
            "text/plain": [
              "<Figure size 1080x720 with 4 Axes>"
            ]
          },
          "metadata": {
            "tags": [],
            "needs_background": "light"
          }
        },
        {
          "output_type": "display_data",
          "data": {
            "image/png": "[encoded data removed]",
            "text/plain": [
              "<Figure size 1008x1152 with 25 Axes>"
            ]
          },
          "metadata": {
            "tags": [],
            "needs_background": "light"
          }
        },
        {
          "output_type": "stream",
          "text": [
            "\r  0%|          | 0/469 [00:00<?, ?it/s]"
          ],
          "name": "stderr"
        },
        {
          "output_type": "stream",
          "text": [
            "\n",
            "-----------------------------------------------\n",
            "\n",
            "-----------------------------------------------\n",
            "bn_l2\n",
            "EPOCH: 0 last LR= [0.01] LR =  [0.01]\n"
          ],
          "name": "stdout"
        },
        {
          "output_type": "stream",
          "text": [
            "Train set: Loss=0.33228588104248047 Batch_id=468 Accuracy=88.38: 100%|██████████| 469/469 [00:14<00:00, 32.62it/s]\n",
            "  0%|          | 0/469 [00:00<?, ?it/s]"
          ],
          "name": "stderr"
        },
        {
          "output_type": "stream",
          "text": [
            "\n",
            "Test set: Average loss: 0.0982, Accuracy: 9756/10000 (97.56%)\n",
            "\n",
            "EPOCH: 1 last LR= [0.01] LR =  [0.01]\n"
          ],
          "name": "stdout"
        },
        {
          "output_type": "stream",
          "text": [
            "Train set: Loss=0.321948766708374 Batch_id=468 Accuracy=97.88: 100%|██████████| 469/469 [00:13<00:00, 33.96it/s]\n",
            "  0%|          | 0/469 [00:00<?, ?it/s]"
          ],
          "name": "stderr"
        },
        {
          "output_type": "stream",
          "text": [
            "\n",
            "Test set: Average loss: 0.1305, Accuracy: 9610/10000 (96.10%)\n",
            "\n",
            "EPOCH: 2 last LR= [0.01] LR =  [0.01]\n"
          ],
          "name": "stdout"
        },
        {
          "output_type": "stream",
          "text": [
            "Train set: Loss=0.20550470054149628 Batch_id=468 Accuracy=97.99: 100%|██████████| 469/469 [00:13<00:00, 33.90it/s]\n",
            "  0%|          | 0/469 [00:00<?, ?it/s]"
          ],
          "name": "stderr"
        },
        {
          "output_type": "stream",
          "text": [
            "\n",
            "Test set: Average loss: 0.0803, Accuracy: 9760/10000 (97.60%)\n",
            "\n",
            "EPOCH: 3 last LR= [0.01] LR =  [0.01]\n"
          ],
          "name": "stdout"
        },
        {
          "output_type": "stream",
          "text": [
            "Train set: Loss=0.28481152653694153 Batch_id=468 Accuracy=98.07: 100%|██████████| 469/469 [00:14<00:00, 32.96it/s]\n",
            "  0%|          | 0/469 [00:00<?, ?it/s]"
          ],
          "name": "stderr"
        },
        {
          "output_type": "stream",
          "text": [
            "\n",
            "Test set: Average loss: 0.0591, Accuracy: 9820/10000 (98.20%)\n",
            "\n",
            "EPOCH: 4 last LR= [0.01] LR =  [0.01]\n"
          ],
          "name": "stdout"
        },
        {
          "output_type": "stream",
          "text": [
            "Train set: Loss=0.20628993213176727 Batch_id=468 Accuracy=98.08: 100%|██████████| 469/469 [00:14<00:00, 32.37it/s]\n",
            "  0%|          | 0/469 [00:00<?, ?it/s]"
          ],
          "name": "stderr"
        },
        {
          "output_type": "stream",
          "text": [
            "\n",
            "Test set: Average loss: 0.0345, Accuracy: 9892/10000 (98.92%)\n",
            "\n",
            "EPOCH: 5 last LR= [0.01] LR =  [0.01]\n"
          ],
          "name": "stdout"
        },
        {
          "output_type": "stream",
          "text": [
            "Train set: Loss=0.2194294035434723 Batch_id=468 Accuracy=98.24: 100%|██████████| 469/469 [00:13<00:00, 34.05it/s]\n",
            "  0%|          | 0/469 [00:00<?, ?it/s]"
          ],
          "name": "stderr"
        },
        {
          "output_type": "stream",
          "text": [
            "\n",
            "Test set: Average loss: 0.0482, Accuracy: 9866/10000 (98.66%)\n",
            "\n",
            "EPOCH: 6 last LR= [0.001] LR =  [0.0001]\n"
          ],
          "name": "stdout"
        },
        {
          "output_type": "stream",
          "text": [
            "Train set: Loss=0.2364882081747055 Batch_id=468 Accuracy=98.89: 100%|██████████| 469/469 [00:13<00:00, 33.98it/s]\n",
            "  0%|          | 0/469 [00:00<?, ?it/s]"
          ],
          "name": "stderr"
        },
        {
          "output_type": "stream",
          "text": [
            "\n",
            "Test set: Average loss: 0.0217, Accuracy: 9936/10000 (99.36%)\n",
            "\n",
            "EPOCH: 7 last LR= [0.001] LR =  [0.001]\n"
          ],
          "name": "stdout"
        },
        {
          "output_type": "stream",
          "text": [
            "Train set: Loss=0.1953495591878891 Batch_id=468 Accuracy=99.05: 100%|██████████| 469/469 [00:14<00:00, 32.70it/s]\n",
            "  0%|          | 0/469 [00:00<?, ?it/s]"
          ],
          "name": "stderr"
        },
        {
          "output_type": "stream",
          "text": [
            "\n",
            "Test set: Average loss: 0.0206, Accuracy: 9944/10000 (99.44%)\n",
            "\n",
            "EPOCH: 8 last LR= [0.001] LR =  [0.001]\n"
          ],
          "name": "stdout"
        },
        {
          "output_type": "stream",
          "text": [
            "Train set: Loss=0.16418419778347015 Batch_id=468 Accuracy=99.05: 100%|██████████| 469/469 [00:14<00:00, 33.44it/s]\n",
            "  0%|          | 0/469 [00:00<?, ?it/s]"
          ],
          "name": "stderr"
        },
        {
          "output_type": "stream",
          "text": [
            "\n",
            "Test set: Average loss: 0.0203, Accuracy: 9943/10000 (99.43%)\n",
            "\n",
            "EPOCH: 9 last LR= [0.001] LR =  [0.001]\n"
          ],
          "name": "stdout"
        },
        {
          "output_type": "stream",
          "text": [
            "Train set: Loss=0.1406341940164566 Batch_id=468 Accuracy=99.07: 100%|██████████| 469/469 [00:14<00:00, 33.24it/s]\n",
            "  0%|          | 0/469 [00:00<?, ?it/s]"
          ],
          "name": "stderr"
        },
        {
          "output_type": "stream",
          "text": [
            "\n",
            "Test set: Average loss: 0.0207, Accuracy: 9950/10000 (99.50%)\n",
            "\n",
            "EPOCH: 10 last LR= [0.001] LR =  [0.001]\n"
          ],
          "name": "stdout"
        },
        {
          "output_type": "stream",
          "text": [
            "Train set: Loss=0.28601062297821045 Batch_id=468 Accuracy=99.07: 100%|██████████| 469/469 [00:14<00:00, 33.21it/s]\n",
            "  0%|          | 0/469 [00:00<?, ?it/s]"
          ],
          "name": "stderr"
        },
        {
          "output_type": "stream",
          "text": [
            "\n",
            "Test set: Average loss: 0.0211, Accuracy: 9947/10000 (99.47%)\n",
            "\n",
            "EPOCH: 11 last LR= [0.001] LR =  [0.001]\n"
          ],
          "name": "stdout"
        },
        {
          "output_type": "stream",
          "text": [
            "Train set: Loss=0.1450623869895935 Batch_id=468 Accuracy=99.11: 100%|██████████| 469/469 [00:13<00:00, 33.91it/s]\n",
            "  0%|          | 0/469 [00:00<?, ?it/s]"
          ],
          "name": "stderr"
        },
        {
          "output_type": "stream",
          "text": [
            "\n",
            "Test set: Average loss: 0.0212, Accuracy: 9937/10000 (99.37%)\n",
            "\n",
            "EPOCH: 12 last LR= [0.0001] LR =  [1e-05]\n"
          ],
          "name": "stdout"
        },
        {
          "output_type": "stream",
          "text": [
            "Train set: Loss=0.14616838097572327 Batch_id=468 Accuracy=99.20: 100%|██████████| 469/469 [00:13<00:00, 34.87it/s]\n",
            "  0%|          | 0/469 [00:00<?, ?it/s]"
          ],
          "name": "stderr"
        },
        {
          "output_type": "stream",
          "text": [
            "\n",
            "Test set: Average loss: 0.0193, Accuracy: 9947/10000 (99.47%)\n",
            "\n",
            "EPOCH: 13 last LR= [0.0001] LR =  [0.0001]\n"
          ],
          "name": "stdout"
        },
        {
          "output_type": "stream",
          "text": [
            "Train set: Loss=0.13108697533607483 Batch_id=468 Accuracy=99.20: 100%|██████████| 469/469 [00:13<00:00, 34.41it/s]\n",
            "  0%|          | 0/469 [00:00<?, ?it/s]"
          ],
          "name": "stderr"
        },
        {
          "output_type": "stream",
          "text": [
            "\n",
            "Test set: Average loss: 0.0188, Accuracy: 9948/10000 (99.48%)\n",
            "\n",
            "EPOCH: 14 last LR= [0.0001] LR =  [0.0001]\n"
          ],
          "name": "stdout"
        },
        {
          "output_type": "stream",
          "text": [
            "Train set: Loss=0.16555476188659668 Batch_id=468 Accuracy=99.20: 100%|██████████| 469/469 [00:14<00:00, 33.03it/s]\n",
            "  0%|          | 0/469 [00:00<?, ?it/s]"
          ],
          "name": "stderr"
        },
        {
          "output_type": "stream",
          "text": [
            "\n",
            "Test set: Average loss: 0.0187, Accuracy: 9949/10000 (99.49%)\n",
            "\n",
            "EPOCH: 15 last LR= [0.0001] LR =  [0.0001]\n"
          ],
          "name": "stdout"
        },
        {
          "output_type": "stream",
          "text": [
            "Train set: Loss=0.16356654465198517 Batch_id=468 Accuracy=99.21: 100%|██████████| 469/469 [00:13<00:00, 34.07it/s]\n",
            "  0%|          | 0/469 [00:00<?, ?it/s]"
          ],
          "name": "stderr"
        },
        {
          "output_type": "stream",
          "text": [
            "\n",
            "Test set: Average loss: 0.0191, Accuracy: 9942/10000 (99.42%)\n",
            "\n",
            "EPOCH: 16 last LR= [0.0001] LR =  [0.0001]\n"
          ],
          "name": "stdout"
        },
        {
          "output_type": "stream",
          "text": [
            "Train set: Loss=0.14968787133693695 Batch_id=468 Accuracy=99.22: 100%|██████████| 469/469 [00:13<00:00, 33.65it/s]\n",
            "  0%|          | 0/469 [00:00<?, ?it/s]"
          ],
          "name": "stderr"
        },
        {
          "output_type": "stream",
          "text": [
            "\n",
            "Test set: Average loss: 0.0190, Accuracy: 9942/10000 (99.42%)\n",
            "\n",
            "EPOCH: 17 last LR= [0.0001] LR =  [0.0001]\n"
          ],
          "name": "stdout"
        },
        {
          "output_type": "stream",
          "text": [
            "Train set: Loss=0.1953170895576477 Batch_id=468 Accuracy=99.24: 100%|██████████| 469/469 [00:14<00:00, 31.95it/s]\n",
            "  0%|          | 0/469 [00:00<?, ?it/s]"
          ],
          "name": "stderr"
        },
        {
          "output_type": "stream",
          "text": [
            "\n",
            "Test set: Average loss: 0.0188, Accuracy: 9947/10000 (99.47%)\n",
            "\n",
            "EPOCH: 18 last LR= [1e-05] LR =  [1.0000000000000002e-06]\n"
          ],
          "name": "stdout"
        },
        {
          "output_type": "stream",
          "text": [
            "Train set: Loss=0.15465985238552094 Batch_id=468 Accuracy=99.20: 100%|██████████| 469/469 [00:15<00:00, 29.56it/s]\n",
            "  0%|          | 0/469 [00:00<?, ?it/s]"
          ],
          "name": "stderr"
        },
        {
          "output_type": "stream",
          "text": [
            "\n",
            "Test set: Average loss: 0.0192, Accuracy: 9941/10000 (99.41%)\n",
            "\n",
            "EPOCH: 19 last LR= [1e-05] LR =  [1e-05]\n"
          ],
          "name": "stdout"
        },
        {
          "output_type": "stream",
          "text": [
            "Train set: Loss=0.152068629860878 Batch_id=468 Accuracy=99.22: 100%|██████████| 469/469 [00:14<00:00, 32.17it/s]\n",
            "  0%|          | 0/469 [00:00<?, ?it/s]"
          ],
          "name": "stderr"
        },
        {
          "output_type": "stream",
          "text": [
            "\n",
            "Test set: Average loss: 0.0193, Accuracy: 9940/10000 (99.40%)\n",
            "\n",
            "EPOCH: 20 last LR= [1e-05] LR =  [1e-05]\n"
          ],
          "name": "stdout"
        },
        {
          "output_type": "stream",
          "text": [
            "Train set: Loss=0.16928572952747345 Batch_id=468 Accuracy=99.26: 100%|██████████| 469/469 [00:14<00:00, 32.78it/s]\n",
            "  0%|          | 0/469 [00:00<?, ?it/s]"
          ],
          "name": "stderr"
        },
        {
          "output_type": "stream",
          "text": [
            "\n",
            "Test set: Average loss: 0.0192, Accuracy: 9941/10000 (99.41%)\n",
            "\n",
            "EPOCH: 21 last LR= [1e-05] LR =  [1e-05]\n"
          ],
          "name": "stdout"
        },
        {
          "output_type": "stream",
          "text": [
            "Train set: Loss=0.14680631458759308 Batch_id=468 Accuracy=99.19: 100%|██████████| 469/469 [00:14<00:00, 32.57it/s]\n",
            "  0%|          | 0/469 [00:00<?, ?it/s]"
          ],
          "name": "stderr"
        },
        {
          "output_type": "stream",
          "text": [
            "\n",
            "Test set: Average loss: 0.0190, Accuracy: 9940/10000 (99.40%)\n",
            "\n",
            "EPOCH: 22 last LR= [1e-05] LR =  [1e-05]\n"
          ],
          "name": "stdout"
        },
        {
          "output_type": "stream",
          "text": [
            "Train set: Loss=0.15154467523097992 Batch_id=468 Accuracy=99.26: 100%|██████████| 469/469 [00:14<00:00, 32.19it/s]\n",
            "  0%|          | 0/469 [00:00<?, ?it/s]"
          ],
          "name": "stderr"
        },
        {
          "output_type": "stream",
          "text": [
            "\n",
            "Test set: Average loss: 0.0191, Accuracy: 9941/10000 (99.41%)\n",
            "\n",
            "EPOCH: 23 last LR= [1e-05] LR =  [1e-05]\n"
          ],
          "name": "stdout"
        },
        {
          "output_type": "stream",
          "text": [
            "Train set: Loss=0.2191941738128662 Batch_id=468 Accuracy=99.24: 100%|██████████| 469/469 [00:14<00:00, 32.17it/s]\n",
            "  0%|          | 0/469 [00:00<?, ?it/s]"
          ],
          "name": "stderr"
        },
        {
          "output_type": "stream",
          "text": [
            "\n",
            "Test set: Average loss: 0.0188, Accuracy: 9942/10000 (99.42%)\n",
            "\n",
            "EPOCH: 24 last LR= [1.0000000000000002e-06] LR =  [1.0000000000000002e-07]\n"
          ],
          "name": "stdout"
        },
        {
          "output_type": "stream",
          "text": [
            "Train set: Loss=0.14711658656597137 Batch_id=468 Accuracy=99.24: 100%|██████████| 469/469 [00:14<00:00, 32.18it/s]\n"
          ],
          "name": "stderr"
        },
        {
          "output_type": "stream",
          "text": [
            "\n",
            "Test set: Average loss: 0.0190, Accuracy: 9942/10000 (99.42%)\n",
            "\n",
            "Total Misclassifications : 58\n"
          ],
          "name": "stdout"
        },
        {
          "output_type": "display_data",
          "data": {
            "image/png": "[encoded data removed]",
            "text/plain": [
              "<Figure size 1080x720 with 4 Axes>"
            ]
          },
          "metadata": {
            "tags": [],
            "needs_background": "light"
          }
        },
        {
          "output_type": "display_data",
          "data": {
            "image/png": "[encoded data removed]",
            "text/plain": [
              "<Figure size 1008x1152 with 25 Axes>"
            ]
          },
          "metadata": {
            "tags": [],
            "needs_background": "light"
          }
        },
        {
          "output_type": "stream",
          "text": [
            "\r  0%|          | 0/469 [00:00<?, ?it/s]"
          ],
          "name": "stderr"
        },
        {
          "output_type": "stream",
          "text": [
            "\n",
            "-----------------------------------------------\n",
            "\n",
            "-----------------------------------------------\n",
            "bn_l1_l2\n",
            "EPOCH: 0 last LR= [0.01] LR =  [0.01]\n"
          ],
          "name": "stdout"
        },
        {
          "output_type": "stream",
          "text": [
            "Train set: Loss=0.3414469361305237 Batch_id=468 Accuracy=88.27: 100%|██████████| 469/469 [00:14<00:00, 31.30it/s]\n",
            "  0%|          | 0/469 [00:00<?, ?it/s]"
          ],
          "name": "stderr"
        },
        {
          "output_type": "stream",
          "text": [
            "\n",
            "Test set: Average loss: 0.1167, Accuracy: 9766/10000 (97.66%)\n",
            "\n",
            "EPOCH: 1 last LR= [0.01] LR =  [0.01]\n"
          ],
          "name": "stdout"
        },
        {
          "output_type": "stream",
          "text": [
            "Train set: Loss=0.2672673463821411 Batch_id=468 Accuracy=97.66: 100%|██████████| 469/469 [00:14<00:00, 32.45it/s]\n",
            "  0%|          | 0/469 [00:00<?, ?it/s]"
          ],
          "name": "stderr"
        },
        {
          "output_type": "stream",
          "text": [
            "\n",
            "Test set: Average loss: 0.1047, Accuracy: 9795/10000 (97.95%)\n",
            "\n",
            "EPOCH: 2 last LR= [0.01] LR =  [0.01]\n"
          ],
          "name": "stdout"
        },
        {
          "output_type": "stream",
          "text": [
            "Train set: Loss=0.2088494598865509 Batch_id=468 Accuracy=97.86: 100%|██████████| 469/469 [00:14<00:00, 32.59it/s]\n",
            "  0%|          | 0/469 [00:00<?, ?it/s]"
          ],
          "name": "stderr"
        },
        {
          "output_type": "stream",
          "text": [
            "\n",
            "Test set: Average loss: 0.1027, Accuracy: 9762/10000 (97.62%)\n",
            "\n",
            "EPOCH: 3 last LR= [0.01] LR =  [0.01]\n"
          ],
          "name": "stdout"
        },
        {
          "output_type": "stream",
          "text": [
            "Train set: Loss=0.27651047706604004 Batch_id=468 Accuracy=97.90: 100%|██████████| 469/469 [00:14<00:00, 31.27it/s]\n",
            "  0%|          | 0/469 [00:00<?, ?it/s]"
          ],
          "name": "stderr"
        },
        {
          "output_type": "stream",
          "text": [
            "\n",
            "Test set: Average loss: 0.0751, Accuracy: 9830/10000 (98.30%)\n",
            "\n",
            "EPOCH: 4 last LR= [0.01] LR =  [0.01]\n"
          ],
          "name": "stdout"
        },
        {
          "output_type": "stream",
          "text": [
            "Train set: Loss=0.21232403814792633 Batch_id=468 Accuracy=97.92: 100%|██████████| 469/469 [00:14<00:00, 32.08it/s]\n",
            "  0%|          | 0/469 [00:00<?, ?it/s]"
          ],
          "name": "stderr"
        },
        {
          "output_type": "stream",
          "text": [
            "\n",
            "Test set: Average loss: 0.0822, Accuracy: 9823/10000 (98.23%)\n",
            "\n",
            "EPOCH: 5 last LR= [0.01] LR =  [0.01]\n"
          ],
          "name": "stdout"
        },
        {
          "output_type": "stream",
          "text": [
            "Train set: Loss=0.18303170800209045 Batch_id=468 Accuracy=97.88: 100%|██████████| 469/469 [00:14<00:00, 32.27it/s]\n",
            "  0%|          | 0/469 [00:00<?, ?it/s]"
          ],
          "name": "stderr"
        },
        {
          "output_type": "stream",
          "text": [
            "\n",
            "Test set: Average loss: 0.0890, Accuracy: 9776/10000 (97.76%)\n",
            "\n",
            "EPOCH: 6 last LR= [0.001] LR =  [0.0001]\n"
          ],
          "name": "stdout"
        },
        {
          "output_type": "stream",
          "text": [
            "Train set: Loss=0.14777952432632446 Batch_id=468 Accuracy=98.77: 100%|██████████| 469/469 [00:15<00:00, 31.15it/s]\n",
            "  0%|          | 0/469 [00:00<?, ?it/s]"
          ],
          "name": "stderr"
        },
        {
          "output_type": "stream",
          "text": [
            "\n",
            "Test set: Average loss: 0.0394, Accuracy: 9923/10000 (99.23%)\n",
            "\n",
            "EPOCH: 7 last LR= [0.001] LR =  [0.001]\n"
          ],
          "name": "stdout"
        },
        {
          "output_type": "stream",
          "text": [
            "Train set: Loss=0.12485158443450928 Batch_id=468 Accuracy=98.96: 100%|██████████| 469/469 [00:14<00:00, 31.44it/s]\n",
            "  0%|          | 0/469 [00:00<?, ?it/s]"
          ],
          "name": "stderr"
        },
        {
          "output_type": "stream",
          "text": [
            "\n",
            "Test set: Average loss: 0.0376, Accuracy: 9929/10000 (99.29%)\n",
            "\n",
            "EPOCH: 8 last LR= [0.001] LR =  [0.001]\n"
          ],
          "name": "stdout"
        },
        {
          "output_type": "stream",
          "text": [
            "Train set: Loss=0.14761032164096832 Batch_id=468 Accuracy=99.03: 100%|██████████| 469/469 [00:14<00:00, 31.96it/s]\n",
            "  0%|          | 0/469 [00:00<?, ?it/s]"
          ],
          "name": "stderr"
        },
        {
          "output_type": "stream",
          "text": [
            "\n",
            "Test set: Average loss: 0.0359, Accuracy: 9939/10000 (99.39%)\n",
            "\n",
            "EPOCH: 9 last LR= [0.001] LR =  [0.001]\n"
          ],
          "name": "stdout"
        },
        {
          "output_type": "stream",
          "text": [
            "Train set: Loss=0.11769437789916992 Batch_id=468 Accuracy=98.89: 100%|██████████| 469/469 [00:15<00:00, 30.91it/s]\n",
            "  0%|          | 0/469 [00:00<?, ?it/s]"
          ],
          "name": "stderr"
        },
        {
          "output_type": "stream",
          "text": [
            "\n",
            "Test set: Average loss: 0.0364, Accuracy: 9934/10000 (99.34%)\n",
            "\n",
            "EPOCH: 10 last LR= [0.001] LR =  [0.001]\n"
          ],
          "name": "stdout"
        },
        {
          "output_type": "stream",
          "text": [
            "Train set: Loss=0.14206336438655853 Batch_id=468 Accuracy=98.94: 100%|██████████| 469/469 [00:15<00:00, 31.11it/s]\n",
            "  0%|          | 0/469 [00:00<?, ?it/s]"
          ],
          "name": "stderr"
        },
        {
          "output_type": "stream",
          "text": [
            "\n",
            "Test set: Average loss: 0.0386, Accuracy: 9932/10000 (99.32%)\n",
            "\n",
            "EPOCH: 11 last LR= [0.001] LR =  [0.001]\n"
          ],
          "name": "stdout"
        },
        {
          "output_type": "stream",
          "text": [
            "Train set: Loss=0.1419166922569275 Batch_id=468 Accuracy=98.93: 100%|██████████| 469/469 [00:15<00:00, 31.13it/s]\n",
            "  0%|          | 0/469 [00:00<?, ?it/s]"
          ],
          "name": "stderr"
        },
        {
          "output_type": "stream",
          "text": [
            "\n",
            "Test set: Average loss: 0.0389, Accuracy: 9936/10000 (99.36%)\n",
            "\n",
            "EPOCH: 12 last LR= [0.0001] LR =  [1e-05]\n"
          ],
          "name": "stdout"
        },
        {
          "output_type": "stream",
          "text": [
            "Train set: Loss=0.11894802749156952 Batch_id=468 Accuracy=99.06: 100%|██████████| 469/469 [00:14<00:00, 32.43it/s]\n",
            "  0%|          | 0/469 [00:00<?, ?it/s]"
          ],
          "name": "stderr"
        },
        {
          "output_type": "stream",
          "text": [
            "\n",
            "Test set: Average loss: 0.0334, Accuracy: 9944/10000 (99.44%)\n",
            "\n",
            "EPOCH: 13 last LR= [0.0001] LR =  [0.0001]\n"
          ],
          "name": "stdout"
        },
        {
          "output_type": "stream",
          "text": [
            "Train set: Loss=0.13426032662391663 Batch_id=468 Accuracy=99.12: 100%|██████████| 469/469 [00:14<00:00, 32.64it/s]\n",
            "  0%|          | 0/469 [00:00<?, ?it/s]"
          ],
          "name": "stderr"
        },
        {
          "output_type": "stream",
          "text": [
            "\n",
            "Test set: Average loss: 0.0332, Accuracy: 9945/10000 (99.45%)\n",
            "\n",
            "EPOCH: 14 last LR= [0.0001] LR =  [0.0001]\n"
          ],
          "name": "stdout"
        },
        {
          "output_type": "stream",
          "text": [
            "Train set: Loss=0.10783088207244873 Batch_id=468 Accuracy=99.12: 100%|██████████| 469/469 [00:14<00:00, 32.74it/s]\n",
            "  0%|          | 0/469 [00:00<?, ?it/s]"
          ],
          "name": "stderr"
        },
        {
          "output_type": "stream",
          "text": [
            "\n",
            "Test set: Average loss: 0.0334, Accuracy: 9943/10000 (99.43%)\n",
            "\n",
            "EPOCH: 15 last LR= [0.0001] LR =  [0.0001]\n"
          ],
          "name": "stdout"
        },
        {
          "output_type": "stream",
          "text": [
            "Train set: Loss=0.10021214932203293 Batch_id=468 Accuracy=99.13: 100%|██████████| 469/469 [00:14<00:00, 31.95it/s]\n",
            "  0%|          | 0/469 [00:00<?, ?it/s]"
          ],
          "name": "stderr"
        },
        {
          "output_type": "stream",
          "text": [
            "\n",
            "Test set: Average loss: 0.0330, Accuracy: 9946/10000 (99.46%)\n",
            "\n",
            "EPOCH: 16 last LR= [0.0001] LR =  [0.0001]\n"
          ],
          "name": "stdout"
        },
        {
          "output_type": "stream",
          "text": [
            "Train set: Loss=0.12191188335418701 Batch_id=468 Accuracy=99.16: 100%|██████████| 469/469 [00:15<00:00, 31.00it/s]\n",
            "  0%|          | 0/469 [00:00<?, ?it/s]"
          ],
          "name": "stderr"
        },
        {
          "output_type": "stream",
          "text": [
            "\n",
            "Test set: Average loss: 0.0332, Accuracy: 9947/10000 (99.47%)\n",
            "\n",
            "EPOCH: 17 last LR= [0.0001] LR =  [0.0001]\n"
          ],
          "name": "stdout"
        },
        {
          "output_type": "stream",
          "text": [
            "Train set: Loss=0.1313551664352417 Batch_id=468 Accuracy=99.19: 100%|██████████| 469/469 [00:14<00:00, 31.75it/s]\n",
            "  0%|          | 0/469 [00:00<?, ?it/s]"
          ],
          "name": "stderr"
        },
        {
          "output_type": "stream",
          "text": [
            "\n",
            "Test set: Average loss: 0.0333, Accuracy: 9944/10000 (99.44%)\n",
            "\n",
            "EPOCH: 18 last LR= [1e-05] LR =  [1.0000000000000002e-06]\n"
          ],
          "name": "stdout"
        },
        {
          "output_type": "stream",
          "text": [
            "Train set: Loss=0.09918662160634995 Batch_id=468 Accuracy=99.14: 100%|██████████| 469/469 [00:14<00:00, 31.72it/s]\n",
            "  0%|          | 0/469 [00:00<?, ?it/s]"
          ],
          "name": "stderr"
        },
        {
          "output_type": "stream",
          "text": [
            "\n",
            "Test set: Average loss: 0.0328, Accuracy: 9943/10000 (99.43%)\n",
            "\n",
            "EPOCH: 19 last LR= [1e-05] LR =  [1e-05]\n"
          ],
          "name": "stdout"
        },
        {
          "output_type": "stream",
          "text": [
            "Train set: Loss=0.12289370596408844 Batch_id=468 Accuracy=99.16: 100%|██████████| 469/469 [00:15<00:00, 31.17it/s]\n",
            "  0%|          | 0/469 [00:00<?, ?it/s]"
          ],
          "name": "stderr"
        },
        {
          "output_type": "stream",
          "text": [
            "\n",
            "Test set: Average loss: 0.0332, Accuracy: 9937/10000 (99.37%)\n",
            "\n",
            "EPOCH: 20 last LR= [1e-05] LR =  [1e-05]\n"
          ],
          "name": "stdout"
        },
        {
          "output_type": "stream",
          "text": [
            "Train set: Loss=0.12976603209972382 Batch_id=468 Accuracy=99.09: 100%|██████████| 469/469 [00:14<00:00, 32.49it/s]\n",
            "  0%|          | 0/469 [00:00<?, ?it/s]"
          ],
          "name": "stderr"
        },
        {
          "output_type": "stream",
          "text": [
            "\n",
            "Test set: Average loss: 0.0331, Accuracy: 9942/10000 (99.42%)\n",
            "\n",
            "EPOCH: 21 last LR= [1e-05] LR =  [1e-05]\n"
          ],
          "name": "stdout"
        },
        {
          "output_type": "stream",
          "text": [
            "Train set: Loss=0.11686728894710541 Batch_id=468 Accuracy=99.14: 100%|██████████| 469/469 [00:15<00:00, 30.81it/s]\n",
            "  0%|          | 0/469 [00:00<?, ?it/s]"
          ],
          "name": "stderr"
        },
        {
          "output_type": "stream",
          "text": [
            "\n",
            "Test set: Average loss: 0.0328, Accuracy: 9946/10000 (99.46%)\n",
            "\n",
            "EPOCH: 22 last LR= [1e-05] LR =  [1e-05]\n"
          ],
          "name": "stdout"
        },
        {
          "output_type": "stream",
          "text": [
            "Train set: Loss=0.14468860626220703 Batch_id=468 Accuracy=99.18: 100%|██████████| 469/469 [00:14<00:00, 31.62it/s]\n",
            "  0%|          | 0/469 [00:00<?, ?it/s]"
          ],
          "name": "stderr"
        },
        {
          "output_type": "stream",
          "text": [
            "\n",
            "Test set: Average loss: 0.0326, Accuracy: 9946/10000 (99.46%)\n",
            "\n",
            "EPOCH: 23 last LR= [1e-05] LR =  [1e-05]\n"
          ],
          "name": "stdout"
        },
        {
          "output_type": "stream",
          "text": [
            "Train set: Loss=0.1872955709695816 Batch_id=468 Accuracy=99.11: 100%|██████████| 469/469 [00:14<00:00, 32.19it/s]\n",
            "  0%|          | 0/469 [00:00<?, ?it/s]"
          ],
          "name": "stderr"
        },
        {
          "output_type": "stream",
          "text": [
            "\n",
            "Test set: Average loss: 0.0328, Accuracy: 9941/10000 (99.41%)\n",
            "\n",
            "EPOCH: 24 last LR= [1.0000000000000002e-06] LR =  [1.0000000000000002e-07]\n"
          ],
          "name": "stdout"
        },
        {
          "output_type": "stream",
          "text": [
            "Train set: Loss=0.09896619617938995 Batch_id=468 Accuracy=99.14: 100%|██████████| 469/469 [00:14<00:00, 31.50it/s]\n"
          ],
          "name": "stderr"
        },
        {
          "output_type": "stream",
          "text": [
            "\n",
            "Test set: Average loss: 0.0328, Accuracy: 9945/10000 (99.45%)\n",
            "\n",
            "Total Misclassifications : 55\n"
          ],
          "name": "stdout"
        },
        {
          "output_type": "display_data",
          "data": {
            "image/png": "[encoded data removed]",
            "text/plain": [
              "<Figure size 1080x720 with 4 Axes>"
            ]
          },
          "metadata": {
            "tags": [],
            "needs_background": "light"
          }
        },
        {
          "output_type": "display_data",
          "data": {
            "image/png": "[encoded data removed]",
            "text/plain": [
              "<Figure size 1008x1152 with 25 Axes>"
            ]
          },
          "metadata": {
            "tags": [],
            "needs_background": "light"
          }
        },
        {
          "output_type": "stream",
          "text": [
            "\r  0%|          | 0/469 [00:00<?, ?it/s]"
          ],
          "name": "stderr"
        },
        {
          "output_type": "stream",
          "text": [
            "\n",
            "-----------------------------------------------\n",
            "\n",
            "-----------------------------------------------\n",
            "gbn\n",
            "EPOCH: 0 last LR= [0.01] LR =  [0.01]\n"
          ],
          "name": "stdout"
        },
        {
          "output_type": "stream",
          "text": [
            "Train set: Loss=0.1827196627855301 Batch_id=468 Accuracy=85.97: 100%|██████████| 469/469 [00:14<00:00, 32.15it/s]\n",
            "  0%|          | 0/469 [00:00<?, ?it/s]"
          ],
          "name": "stderr"
        },
        {
          "output_type": "stream",
          "text": [
            "\n",
            "Test set: Average loss: 0.0712, Accuracy: 9827/10000 (98.27%)\n",
            "\n",
            "EPOCH: 1 last LR= [0.01] LR =  [0.01]\n"
          ],
          "name": "stdout"
        },
        {
          "output_type": "stream",
          "text": [
            "Train set: Loss=0.2324179857969284 Batch_id=468 Accuracy=97.40: 100%|██████████| 469/469 [00:14<00:00, 32.57it/s]\n",
            "  0%|          | 0/469 [00:00<?, ?it/s]"
          ],
          "name": "stderr"
        },
        {
          "output_type": "stream",
          "text": [
            "\n",
            "Test set: Average loss: 0.0665, Accuracy: 9800/10000 (98.00%)\n",
            "\n",
            "EPOCH: 2 last LR= [0.01] LR =  [0.01]\n"
          ],
          "name": "stdout"
        },
        {
          "output_type": "stream",
          "text": [
            "Train set: Loss=0.03835997357964516 Batch_id=468 Accuracy=98.01: 100%|██████████| 469/469 [00:14<00:00, 32.51it/s]\n",
            "  0%|          | 0/469 [00:00<?, ?it/s]"
          ],
          "name": "stderr"
        },
        {
          "output_type": "stream",
          "text": [
            "\n",
            "Test set: Average loss: 0.0332, Accuracy: 9897/10000 (98.97%)\n",
            "\n",
            "EPOCH: 3 last LR= [0.01] LR =  [0.01]\n"
          ],
          "name": "stdout"
        },
        {
          "output_type": "stream",
          "text": [
            "Train set: Loss=0.018070083111524582 Batch_id=468 Accuracy=98.25: 100%|██████████| 469/469 [00:15<00:00, 30.90it/s]\n",
            "  0%|          | 0/469 [00:00<?, ?it/s]"
          ],
          "name": "stderr"
        },
        {
          "output_type": "stream",
          "text": [
            "\n",
            "Test set: Average loss: 0.0302, Accuracy: 9923/10000 (99.23%)\n",
            "\n",
            "EPOCH: 4 last LR= [0.01] LR =  [0.01]\n"
          ],
          "name": "stdout"
        },
        {
          "output_type": "stream",
          "text": [
            "Train set: Loss=0.1077553927898407 Batch_id=468 Accuracy=98.40: 100%|██████████| 469/469 [00:14<00:00, 31.92it/s]\n",
            "  0%|          | 0/469 [00:00<?, ?it/s]"
          ],
          "name": "stderr"
        },
        {
          "output_type": "stream",
          "text": [
            "\n",
            "Test set: Average loss: 0.0332, Accuracy: 9897/10000 (98.97%)\n",
            "\n",
            "EPOCH: 5 last LR= [0.01] LR =  [0.01]\n"
          ],
          "name": "stdout"
        },
        {
          "output_type": "stream",
          "text": [
            "Train set: Loss=0.018280522897839546 Batch_id=468 Accuracy=98.58: 100%|██████████| 469/469 [00:14<00:00, 32.10it/s]\n",
            "  0%|          | 0/469 [00:00<?, ?it/s]"
          ],
          "name": "stderr"
        },
        {
          "output_type": "stream",
          "text": [
            "\n",
            "Test set: Average loss: 0.0248, Accuracy: 9937/10000 (99.37%)\n",
            "\n",
            "EPOCH: 6 last LR= [0.001] LR =  [0.0001]\n"
          ],
          "name": "stdout"
        },
        {
          "output_type": "stream",
          "text": [
            "Train set: Loss=0.028978899121284485 Batch_id=468 Accuracy=98.85: 100%|██████████| 469/469 [00:14<00:00, 32.95it/s]\n",
            "  0%|          | 0/469 [00:00<?, ?it/s]"
          ],
          "name": "stderr"
        },
        {
          "output_type": "stream",
          "text": [
            "\n",
            "Test set: Average loss: 0.0182, Accuracy: 9950/10000 (99.50%)\n",
            "\n",
            "EPOCH: 7 last LR= [0.001] LR =  [0.001]\n"
          ],
          "name": "stdout"
        },
        {
          "output_type": "stream",
          "text": [
            "Train set: Loss=0.044772256165742874 Batch_id=468 Accuracy=98.88: 100%|██████████| 469/469 [00:14<00:00, 32.73it/s]\n",
            "  0%|          | 0/469 [00:00<?, ?it/s]"
          ],
          "name": "stderr"
        },
        {
          "output_type": "stream",
          "text": [
            "\n",
            "Test set: Average loss: 0.0182, Accuracy: 9950/10000 (99.50%)\n",
            "\n",
            "EPOCH: 8 last LR= [0.001] LR =  [0.001]\n"
          ],
          "name": "stdout"
        },
        {
          "output_type": "stream",
          "text": [
            "Train set: Loss=0.0882658064365387 Batch_id=468 Accuracy=98.94: 100%|██████████| 469/469 [00:14<00:00, 31.31it/s]\n",
            "  0%|          | 0/469 [00:00<?, ?it/s]"
          ],
          "name": "stderr"
        },
        {
          "output_type": "stream",
          "text": [
            "\n",
            "Test set: Average loss: 0.0183, Accuracy: 9948/10000 (99.48%)\n",
            "\n",
            "EPOCH: 9 last LR= [0.001] LR =  [0.001]\n"
          ],
          "name": "stdout"
        },
        {
          "output_type": "stream",
          "text": [
            "Train set: Loss=0.029537290334701538 Batch_id=468 Accuracy=98.93: 100%|██████████| 469/469 [00:14<00:00, 31.67it/s]\n",
            "  0%|          | 0/469 [00:00<?, ?it/s]"
          ],
          "name": "stderr"
        },
        {
          "output_type": "stream",
          "text": [
            "\n",
            "Test set: Average loss: 0.0185, Accuracy: 9949/10000 (99.49%)\n",
            "\n",
            "EPOCH: 10 last LR= [0.001] LR =  [0.001]\n"
          ],
          "name": "stdout"
        },
        {
          "output_type": "stream",
          "text": [
            "Train set: Loss=0.07196266204118729 Batch_id=468 Accuracy=98.97: 100%|██████████| 469/469 [00:14<00:00, 32.18it/s]\n",
            "  0%|          | 0/469 [00:00<?, ?it/s]"
          ],
          "name": "stderr"
        },
        {
          "output_type": "stream",
          "text": [
            "\n",
            "Test set: Average loss: 0.0178, Accuracy: 9950/10000 (99.50%)\n",
            "\n",
            "EPOCH: 11 last LR= [0.001] LR =  [0.001]\n"
          ],
          "name": "stdout"
        },
        {
          "output_type": "stream",
          "text": [
            "Train set: Loss=0.009400340728461742 Batch_id=468 Accuracy=99.00: 100%|██████████| 469/469 [00:14<00:00, 32.42it/s]\n",
            "  0%|          | 0/469 [00:00<?, ?it/s]"
          ],
          "name": "stderr"
        },
        {
          "output_type": "stream",
          "text": [
            "\n",
            "Test set: Average loss: 0.0180, Accuracy: 9950/10000 (99.50%)\n",
            "\n",
            "EPOCH: 12 last LR= [0.0001] LR =  [1e-05]\n"
          ],
          "name": "stdout"
        },
        {
          "output_type": "stream",
          "text": [
            "Train set: Loss=0.07275912165641785 Batch_id=468 Accuracy=99.02: 100%|██████████| 469/469 [00:14<00:00, 32.31it/s]\n",
            "  0%|          | 0/469 [00:00<?, ?it/s]"
          ],
          "name": "stderr"
        },
        {
          "output_type": "stream",
          "text": [
            "\n",
            "Test set: Average loss: 0.0185, Accuracy: 9951/10000 (99.51%)\n",
            "\n",
            "EPOCH: 13 last LR= [0.0001] LR =  [0.0001]\n"
          ],
          "name": "stdout"
        },
        {
          "output_type": "stream",
          "text": [
            "Train set: Loss=0.0665094330906868 Batch_id=468 Accuracy=99.06: 100%|██████████| 469/469 [00:14<00:00, 32.05it/s]\n",
            "  0%|          | 0/469 [00:00<?, ?it/s]"
          ],
          "name": "stderr"
        },
        {
          "output_type": "stream",
          "text": [
            "\n",
            "Test set: Average loss: 0.0177, Accuracy: 9952/10000 (99.52%)\n",
            "\n",
            "EPOCH: 14 last LR= [0.0001] LR =  [0.0001]\n"
          ],
          "name": "stdout"
        },
        {
          "output_type": "stream",
          "text": [
            "Train set: Loss=0.021241074427962303 Batch_id=468 Accuracy=98.96: 100%|██████████| 469/469 [00:14<00:00, 31.79it/s]\n",
            "  0%|          | 0/469 [00:00<?, ?it/s]"
          ],
          "name": "stderr"
        },
        {
          "output_type": "stream",
          "text": [
            "\n",
            "Test set: Average loss: 0.0180, Accuracy: 9951/10000 (99.51%)\n",
            "\n",
            "EPOCH: 15 last LR= [0.0001] LR =  [0.0001]\n"
          ],
          "name": "stdout"
        },
        {
          "output_type": "stream",
          "text": [
            "Train set: Loss=0.06852357089519501 Batch_id=468 Accuracy=99.03: 100%|██████████| 469/469 [00:14<00:00, 31.62it/s]\n",
            "  0%|          | 0/469 [00:00<?, ?it/s]"
          ],
          "name": "stderr"
        },
        {
          "output_type": "stream",
          "text": [
            "\n",
            "Test set: Average loss: 0.0177, Accuracy: 9949/10000 (99.49%)\n",
            "\n",
            "EPOCH: 16 last LR= [0.0001] LR =  [0.0001]\n"
          ],
          "name": "stdout"
        },
        {
          "output_type": "stream",
          "text": [
            "Train set: Loss=0.031193822622299194 Batch_id=468 Accuracy=99.02: 100%|██████████| 469/469 [00:14<00:00, 32.21it/s]\n",
            "  0%|          | 0/469 [00:00<?, ?it/s]"
          ],
          "name": "stderr"
        },
        {
          "output_type": "stream",
          "text": [
            "\n",
            "Test set: Average loss: 0.0174, Accuracy: 9949/10000 (99.49%)\n",
            "\n",
            "EPOCH: 17 last LR= [0.0001] LR =  [0.0001]\n"
          ],
          "name": "stdout"
        },
        {
          "output_type": "stream",
          "text": [
            "Train set: Loss=0.029721662402153015 Batch_id=468 Accuracy=98.99: 100%|██████████| 469/469 [00:14<00:00, 31.76it/s]\n",
            "  0%|          | 0/469 [00:00<?, ?it/s]"
          ],
          "name": "stderr"
        },
        {
          "output_type": "stream",
          "text": [
            "\n",
            "Test set: Average loss: 0.0172, Accuracy: 9950/10000 (99.50%)\n",
            "\n",
            "EPOCH: 18 last LR= [1e-05] LR =  [1.0000000000000002e-06]\n"
          ],
          "name": "stdout"
        },
        {
          "output_type": "stream",
          "text": [
            "Train set: Loss=0.009255323559045792 Batch_id=468 Accuracy=98.97: 100%|██████████| 469/469 [00:14<00:00, 31.73it/s]\n",
            "  0%|          | 0/469 [00:00<?, ?it/s]"
          ],
          "name": "stderr"
        },
        {
          "output_type": "stream",
          "text": [
            "\n",
            "Test set: Average loss: 0.0177, Accuracy: 9947/10000 (99.47%)\n",
            "\n",
            "EPOCH: 19 last LR= [1e-05] LR =  [1e-05]\n"
          ],
          "name": "stdout"
        },
        {
          "output_type": "stream",
          "text": [
            "Train set: Loss=0.01160155888646841 Batch_id=468 Accuracy=99.03: 100%|██████████| 469/469 [00:14<00:00, 32.32it/s]\n",
            "  0%|          | 0/469 [00:00<?, ?it/s]"
          ],
          "name": "stderr"
        },
        {
          "output_type": "stream",
          "text": [
            "\n",
            "Test set: Average loss: 0.0172, Accuracy: 9952/10000 (99.52%)\n",
            "\n",
            "EPOCH: 20 last LR= [1e-05] LR =  [1e-05]\n"
          ],
          "name": "stdout"
        },
        {
          "output_type": "stream",
          "text": [
            "Train set: Loss=0.0262951347976923 Batch_id=468 Accuracy=99.00: 100%|██████████| 469/469 [00:14<00:00, 32.53it/s]\n",
            "  0%|          | 0/469 [00:00<?, ?it/s]"
          ],
          "name": "stderr"
        },
        {
          "output_type": "stream",
          "text": [
            "\n",
            "Test set: Average loss: 0.0172, Accuracy: 9950/10000 (99.50%)\n",
            "\n",
            "EPOCH: 21 last LR= [1e-05] LR =  [1e-05]\n"
          ],
          "name": "stdout"
        },
        {
          "output_type": "stream",
          "text": [
            "Train set: Loss=0.022764593362808228 Batch_id=468 Accuracy=99.02: 100%|██████████| 469/469 [00:14<00:00, 32.71it/s]\n",
            "  0%|          | 0/469 [00:00<?, ?it/s]"
          ],
          "name": "stderr"
        },
        {
          "output_type": "stream",
          "text": [
            "\n",
            "Test set: Average loss: 0.0175, Accuracy: 9950/10000 (99.50%)\n",
            "\n",
            "EPOCH: 22 last LR= [1e-05] LR =  [1e-05]\n"
          ],
          "name": "stdout"
        },
        {
          "output_type": "stream",
          "text": [
            "Train set: Loss=0.016271905973553658 Batch_id=468 Accuracy=99.01: 100%|██████████| 469/469 [00:15<00:00, 31.23it/s]\n",
            "  0%|          | 0/469 [00:00<?, ?it/s]"
          ],
          "name": "stderr"
        },
        {
          "output_type": "stream",
          "text": [
            "\n",
            "Test set: Average loss: 0.0170, Accuracy: 9951/10000 (99.51%)\n",
            "\n",
            "EPOCH: 23 last LR= [1e-05] LR =  [1e-05]\n"
          ],
          "name": "stdout"
        },
        {
          "output_type": "stream",
          "text": [
            "Train set: Loss=0.03820229321718216 Batch_id=468 Accuracy=98.97: 100%|██████████| 469/469 [00:14<00:00, 31.55it/s]\n",
            "  0%|          | 0/469 [00:00<?, ?it/s]"
          ],
          "name": "stderr"
        },
        {
          "output_type": "stream",
          "text": [
            "\n",
            "Test set: Average loss: 0.0176, Accuracy: 9949/10000 (99.49%)\n",
            "\n",
            "EPOCH: 24 last LR= [1.0000000000000002e-06] LR =  [1.0000000000000002e-07]\n"
          ],
          "name": "stdout"
        },
        {
          "output_type": "stream",
          "text": [
            "Train set: Loss=0.07561982423067093 Batch_id=468 Accuracy=98.99: 100%|██████████| 469/469 [00:14<00:00, 31.63it/s]\n"
          ],
          "name": "stderr"
        },
        {
          "output_type": "stream",
          "text": [
            "\n",
            "Test set: Average loss: 0.0173, Accuracy: 9950/10000 (99.50%)\n",
            "\n",
            "Total Misclassifications : 50\n"
          ],
          "name": "stdout"
        },
        {
          "output_type": "display_data",
          "data": {
            "image/png": "[encoded data removed]",
            "text/plain": [
              "<Figure size 1080x720 with 4 Axes>"
            ]
          },
          "metadata": {
            "tags": [],
            "needs_background": "light"
          }
        },
        {
          "output_type": "display_data",
          "data": {
            "image/png": "[encoded data removed]",
            "text/plain": [
              "<Figure size 1008x1152 with 25 Axes>"
            ]
          },
          "metadata": {
            "tags": [],
            "needs_background": "light"
          }
        },
        {
          "output_type": "stream",
          "text": [
            "\r  0%|          | 0/469 [00:00<?, ?it/s]"
          ],
          "name": "stderr"
        },
        {
          "output_type": "stream",
          "text": [
            "\n",
            "-----------------------------------------------\n",
            "\n",
            "-----------------------------------------------\n",
            "gbn_l1_l2\n",
            "EPOCH: 0 last LR= [0.01] LR =  [0.01]\n"
          ],
          "name": "stdout"
        },
        {
          "output_type": "stream",
          "text": [
            "Train set: Loss=0.335201621055603 Batch_id=468 Accuracy=84.33: 100%|██████████| 469/469 [00:14<00:00, 31.72it/s]\n",
            "  0%|          | 0/469 [00:00<?, ?it/s]"
          ],
          "name": "stderr"
        },
        {
          "output_type": "stream",
          "text": [
            "\n",
            "Test set: Average loss: 0.1376, Accuracy: 9758/10000 (97.58%)\n",
            "\n",
            "EPOCH: 1 last LR= [0.01] LR =  [0.01]\n"
          ],
          "name": "stdout"
        },
        {
          "output_type": "stream",
          "text": [
            "Train set: Loss=0.4235089421272278 Batch_id=468 Accuracy=97.20: 100%|██████████| 469/469 [00:14<00:00, 31.81it/s]\n",
            "  0%|          | 0/469 [00:00<?, ?it/s]"
          ],
          "name": "stderr"
        },
        {
          "output_type": "stream",
          "text": [
            "\n",
            "Test set: Average loss: 0.1142, Accuracy: 9740/10000 (97.40%)\n",
            "\n",
            "EPOCH: 2 last LR= [0.01] LR =  [0.01]\n"
          ],
          "name": "stdout"
        },
        {
          "output_type": "stream",
          "text": [
            "Train set: Loss=0.21249732375144958 Batch_id=468 Accuracy=97.52: 100%|██████████| 469/469 [00:14<00:00, 32.01it/s]\n",
            "  0%|          | 0/469 [00:00<?, ?it/s]"
          ],
          "name": "stderr"
        },
        {
          "output_type": "stream",
          "text": [
            "\n",
            "Test set: Average loss: 0.0891, Accuracy: 9808/10000 (98.08%)\n",
            "\n",
            "EPOCH: 3 last LR= [0.01] LR =  [0.01]\n"
          ],
          "name": "stdout"
        },
        {
          "output_type": "stream",
          "text": [
            "Train set: Loss=0.19088584184646606 Batch_id=468 Accuracy=97.58: 100%|██████████| 469/469 [00:14<00:00, 31.63it/s]\n",
            "  0%|          | 0/469 [00:00<?, ?it/s]"
          ],
          "name": "stderr"
        },
        {
          "output_type": "stream",
          "text": [
            "\n",
            "Test set: Average loss: 0.0943, Accuracy: 9778/10000 (97.78%)\n",
            "\n",
            "EPOCH: 4 last LR= [0.01] LR =  [0.01]\n"
          ],
          "name": "stdout"
        },
        {
          "output_type": "stream",
          "text": [
            "Train set: Loss=0.1955946683883667 Batch_id=468 Accuracy=97.62: 100%|██████████| 469/469 [00:14<00:00, 32.20it/s]\n",
            "  0%|          | 0/469 [00:00<?, ?it/s]"
          ],
          "name": "stderr"
        },
        {
          "output_type": "stream",
          "text": [
            "\n",
            "Test set: Average loss: 0.0819, Accuracy: 9830/10000 (98.30%)\n",
            "\n",
            "EPOCH: 5 last LR= [0.01] LR =  [0.01]\n"
          ],
          "name": "stdout"
        },
        {
          "output_type": "stream",
          "text": [
            "Train set: Loss=0.22900402545928955 Batch_id=84 Accuracy=97.78:  17%|█▋        | 82/469 [00:02<00:10, 36.20it/s]"
          ],
          "name": "stderr"
        }
      ]
    },
    {
      "cell_type": "code",
      "metadata": {
        "id": "87RaqGSEOWDe",
        "colab_type": "code",
        "colab": {
          "base_uri": "https://localhost:8080/",
          "height": 232
        },
        "outputId": "0a0dc524-2de1-4f82-a21a-9d62795e031e"
      },
      "source": [
        "def plot_acc_loss(acc_loss, msg):\n",
        "    plt.figure(figsize=(12,12))\n",
        "    plt.plot(acc_loss[0],color='Red',   label='BN_L1')\n",
        "    plt.plot(acc_loss[1],color='Blue',     label='BN_L2')\n",
        "    plt.plot(acc_loss[2],color='Green',    label='BN_L1_L2')\n",
        "    plt.plot(acc_loss[3],color='Yellow',  label='GBN')\n",
        "    plt.plot(acc_loss[4],color='Black', label='GBN_L1_L2')\n",
        "        \n",
        "    plt.xlabel(' Epochs ')\n",
        "\n",
        "    if msg == 'Loss':\n",
        "        plt.ylabel(' Loss ')\n",
        "        plt.title('Total losses vs Epochs')\n",
        "    elif msg == 'Acc':\n",
        "        plt.ylabel(' Accuracy ')\n",
        "        plt.title('Total accuracy vs Epochs')\n",
        "\n",
        "    plt.legend(loc = 'upper left' , bbox_to_anchor = (1,1))\n",
        "    plt.legend()\n",
        "    \n",
        "    plt.show()"
      ],
      "execution_count": null,
      "outputs": [
        {
          "output_type": "error",
          "ename": "NameError",
          "evalue": "ignored",
          "traceback": [
            "\u001b[0;31m---------------------------------------------------------------------------\u001b[0m",
            "\u001b[0;31mNameError\u001b[0m                                 Traceback (most recent call last)",
            "\u001b[0;32m<ipython-input-1-526f05c99396>\u001b[0m in \u001b[0;36m<module>\u001b[0;34m()\u001b[0m\n\u001b[0;32m----> 1\u001b[0;31m \u001b[0mfig\u001b[0m\u001b[0;34m,\u001b[0m \u001b[0maxs\u001b[0m \u001b[0;34m=\u001b[0m \u001b[0mplt\u001b[0m\u001b[0;34m.\u001b[0m\u001b[0msubplots\u001b[0m\u001b[0;34m(\u001b[0m\u001b[0;36m2\u001b[0m\u001b[0;34m,\u001b[0m\u001b[0;36m2\u001b[0m\u001b[0;34m,\u001b[0m\u001b[0mfigsize\u001b[0m\u001b[0;34m=\u001b[0m\u001b[0;34m(\u001b[0m\u001b[0;36m15\u001b[0m\u001b[0;34m,\u001b[0m\u001b[0;36m10\u001b[0m\u001b[0;34m)\u001b[0m\u001b[0;34m)\u001b[0m\u001b[0;34m\u001b[0m\u001b[0;34m\u001b[0m\u001b[0m\n\u001b[0m\u001b[1;32m      2\u001b[0m \u001b[0maxs\u001b[0m\u001b[0;34m[\u001b[0m\u001b[0;36m0\u001b[0m\u001b[0;34m,\u001b[0m \u001b[0;36m0\u001b[0m\u001b[0;34m]\u001b[0m\u001b[0;34m.\u001b[0m\u001b[0mplot\u001b[0m\u001b[0;34m(\u001b[0m\u001b[0mtrain_losses\u001b[0m\u001b[0;34m)\u001b[0m\u001b[0;34m\u001b[0m\u001b[0;34m\u001b[0m\u001b[0m\n\u001b[1;32m      3\u001b[0m \u001b[0maxs\u001b[0m\u001b[0;34m[\u001b[0m\u001b[0;36m0\u001b[0m\u001b[0;34m,\u001b[0m \u001b[0;36m0\u001b[0m\u001b[0;34m]\u001b[0m\u001b[0;34m.\u001b[0m\u001b[0mset_title\u001b[0m\u001b[0;34m(\u001b[0m\u001b[0;34m\"Training Loss\"\u001b[0m\u001b[0;34m)\u001b[0m\u001b[0;34m\u001b[0m\u001b[0;34m\u001b[0m\u001b[0m\n\u001b[1;32m      4\u001b[0m \u001b[0maxs\u001b[0m\u001b[0;34m[\u001b[0m\u001b[0;36m1\u001b[0m\u001b[0;34m,\u001b[0m \u001b[0;36m0\u001b[0m\u001b[0;34m]\u001b[0m\u001b[0;34m.\u001b[0m\u001b[0mplot\u001b[0m\u001b[0;34m(\u001b[0m\u001b[0mtrain_acc\u001b[0m\u001b[0;34m)\u001b[0m\u001b[0;34m\u001b[0m\u001b[0;34m\u001b[0m\u001b[0m\n\u001b[1;32m      5\u001b[0m \u001b[0maxs\u001b[0m\u001b[0;34m[\u001b[0m\u001b[0;36m1\u001b[0m\u001b[0;34m,\u001b[0m \u001b[0;36m0\u001b[0m\u001b[0;34m]\u001b[0m\u001b[0;34m.\u001b[0m\u001b[0mset_title\u001b[0m\u001b[0;34m(\u001b[0m\u001b[0;34m\"Training Accuracy\"\u001b[0m\u001b[0;34m)\u001b[0m\u001b[0;34m\u001b[0m\u001b[0;34m\u001b[0m\u001b[0m\n",
            "\u001b[0;31mNameError\u001b[0m: name 'plt' is not defined"
          ]
        }
      ]
    },
    {
      "cell_type": "code",
      "metadata": {
        "id": "-2P12mU-RBc_",
        "colab_type": "code",
        "colab": {}
      },
      "source": [
        "plot_acc_loss(metric_acc_values, \"Acc\")"
      ],
      "execution_count": null,
      "outputs": []
    },
    {
      "cell_type": "code",
      "metadata": {
        "id": "XqhQGIMNRGvW",
        "colab_type": "code",
        "colab": {}
      },
      "source": [
        "plot_acc_loss(metric_loss_values, \"Loss\")"
      ],
      "execution_count": null,
      "outputs": []
    },
    {
      "cell_type": "code",
      "metadata": {
        "id": "exUHgjWjRK7k",
        "colab_type": "code",
        "colab": {}
      },
      "source": [
        "metric_loss_values"
      ],
      "execution_count": null,
      "outputs": []
    },
    {
      "cell_type": "code",
      "metadata": {
        "id": "rkBjvZSyROLJ",
        "colab_type": "code",
        "colab": {}
      },
      "source": [
        "metric_acc_values"
      ],
      "execution_count": null,
      "outputs": []
    },
    {
      "cell_type": "markdown",
      "metadata": {
        "id": "VhCQvidnH5_7",
        "colab_type": "text"
      },
      "source": [
        "# **The Model**\n",
        "\n",
        "## Target\n",
        "\n",
        "*   Less than 10000 parameters\n",
        "*   Less than 15 epochs\n",
        "\n",
        "\n",
        "## Results\n",
        "\n",
        "*   Number of Parameters = 9534\n",
        "*   Best Train Accuracy = 99.11\n",
        "*   Best Test Accuracy = 99.45\n",
        "\n",
        "\n",
        "\n",
        "\n",
        "\n",
        "# Analysis\n",
        "The network is now conistently predicting accuracy of 99.4+ and is a good network. However, since its a bit underfitting, with some additional capacity, it can be further pushed.\n"
      ]
    }
  ]
}